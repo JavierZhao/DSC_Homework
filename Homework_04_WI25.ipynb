{
 "cells": [
  {
   "cell_type": "markdown",
   "metadata": {},
   "source": [
    "# Homework 07: Bayesian Statistics and MCMC"
   ]
  },
  {
   "cell_type": "code",
   "execution_count": 1,
   "metadata": {
    "execution": {
     "iopub.execute_input": "2025-02-24T17:57:05.468489Z",
     "iopub.status.busy": "2025-02-24T17:57:05.467931Z",
     "iopub.status.idle": "2025-02-24T17:57:07.028933Z",
     "shell.execute_reply": "2025-02-24T17:57:07.028211Z",
     "shell.execute_reply.started": "2025-02-24T17:57:05.468462Z"
    }
   },
   "outputs": [],
   "source": [
    "%matplotlib inline\n",
    "import matplotlib.pyplot as plt\n",
    "import seaborn as sns; sns.set()\n",
    "import numpy as np\n",
    "import pandas as pd"
   ]
  },
  {
   "cell_type": "code",
   "execution_count": 2,
   "metadata": {
    "execution": {
     "iopub.execute_input": "2025-02-24T17:57:07.030653Z",
     "iopub.status.busy": "2025-02-24T17:57:07.030294Z",
     "iopub.status.idle": "2025-02-24T17:57:13.392519Z",
     "shell.execute_reply": "2025-02-24T17:57:13.391680Z",
     "shell.execute_reply.started": "2025-02-24T17:57:07.030629Z"
    }
   },
   "outputs": [
    {
     "name": "stdout",
     "output_type": "stream",
     "text": [
      "Collecting emcee\n",
      "  Obtaining dependency information for emcee from https://files.pythonhosted.org/packages/f9/ef/2196b9bf88ffa1bde45853c72df021fbd07a8fa91a0f59a22d14a050dc04/emcee-3.1.6-py2.py3-none-any.whl.metadata\n",
      "  Downloading emcee-3.1.6-py2.py3-none-any.whl.metadata (3.0 kB)\n",
      "Requirement already satisfied: numpy in /opt/conda/lib/python3.11/site-packages (from emcee) (1.24.3)\n",
      "Downloading emcee-3.1.6-py2.py3-none-any.whl (47 kB)\n",
      "\u001b[2K   \u001b[90m━━━━━━━━━━━━━━━━━━━━━━━━━━━━━━━━━━━━━━━━\u001b[0m \u001b[32m47.4/47.4 kB\u001b[0m \u001b[31m8.9 MB/s\u001b[0m eta \u001b[36m0:00:00\u001b[0m\n",
      "\u001b[?25hInstalling collected packages: emcee\n",
      "Successfully installed emcee-3.1.6\n"
     ]
    }
   ],
   "source": [
    "!pip install emcee"
   ]
  },
  {
   "cell_type": "markdown",
   "metadata": {},
   "source": [
    "## <span style=\"color:Orange\">Problem 1</span>"
   ]
  },
  {
   "cell_type": "markdown",
   "metadata": {},
   "source": [
    "Suppose you have an algorithm to identify [quasars](https://en.wikipedia.org/wiki/Quasar) from astronomical images, which simply returns `True` or `False`. Using control samples, you have determined that your algorithm has the following performance for real quasars as well as the main contaminants for a quasar sample: galaxies and stars.\n",
    "\n",
    "| data? | M=quasar | M=galaxy | M=star |\n",
    "|---|--------|--------|------|\n",
    "| D=True  |  0.8   |   0.1  |  0.2 |\n",
    "| D=False |  0.2   |   0.9  |  0.8 |\n",
    "\n",
    "Implement the following function to calculate the likelihood $P(D\\mid M)$ given this information:"
   ]
  },
  {
   "cell_type": "code",
   "execution_count": 3,
   "metadata": {
    "execution": {
     "iopub.execute_input": "2025-02-24T17:57:13.393938Z",
     "iopub.status.busy": "2025-02-24T17:57:13.393612Z",
     "iopub.status.idle": "2025-02-24T17:57:13.398808Z",
     "shell.execute_reply": "2025-02-24T17:57:13.398185Z",
     "shell.execute_reply.started": "2025-02-24T17:57:13.393907Z"
    },
    "nbgrader": {
     "grade": false,
     "grade_id": "cell-2e9a416384cd060f",
     "locked": false,
     "schema_version": 1,
     "solution": true
    }
   },
   "outputs": [],
   "source": [
    "def likelihood(D, M):\n",
    "    \"\"\"Calculate likelihood of data D given model M.\n",
    "    \n",
    "    Parameters\n",
    "    ----------\n",
    "    D : bool\n",
    "        A boolean (True/False) value indicating whether the algorithm identified an\n",
    "        object as being a quasar or not.\n",
    "    M : str\n",
    "        A string ('quasar', 'galaxy', 'star') specifying the assumed model.\n",
    "        \n",
    "    Returns\n",
    "    -------\n",
    "    float\n",
    "        The probability of the data given the model.\n",
    "    \"\"\"\n",
    "    # YOUR CODE HERE\n",
    "    prob_table = {\n",
    "        'quasar': {True: 0.8, False: 0.2},\n",
    "        'galaxy': {True: 0.1, False: 0.9},\n",
    "        'star':   {True: 0.2, False: 0.8}\n",
    "    }\n",
    "    \n",
    "    return prob_table[M][D]\n"
   ]
  },
  {
   "cell_type": "code",
   "execution_count": 4,
   "metadata": {
    "execution": {
     "iopub.execute_input": "2025-02-24T17:57:13.399937Z",
     "iopub.status.busy": "2025-02-24T17:57:13.399561Z",
     "iopub.status.idle": "2025-02-24T17:57:13.403375Z",
     "shell.execute_reply": "2025-02-24T17:57:13.402817Z",
     "shell.execute_reply.started": "2025-02-24T17:57:13.399915Z"
    },
    "nbgrader": {
     "grade": true,
     "grade_id": "cell-8552b070717bc898",
     "locked": true,
     "points": 1,
     "schema_version": 1,
     "solution": false
    }
   },
   "outputs": [],
   "source": [
    "# A correct solution should pass these tests.\n",
    "assert likelihood(True, 'quasar') == 0.8\n",
    "assert likelihood(False, 'galaxy') == 0.9\n",
    "assert likelihood(True, 'star') == 0.2\n",
    "for M in 'quasar', 'galaxy', 'star':\n",
    "    assert likelihood(True, M) + likelihood(False, M) == 1"
   ]
  },
  {
   "cell_type": "markdown",
   "metadata": {},
   "source": [
    "The prior probability of each model will vary between images, depending mostly on the local density of stars which can vary a lot (and is especially high when you look through the disk of the Milky Way).\n",
    "\n",
    "Implement the function below to calculate the prior probabilities of each model for an image based on the expected number of objects of each type:"
   ]
  },
  {
   "cell_type": "code",
   "execution_count": 5,
   "metadata": {
    "execution": {
     "iopub.execute_input": "2025-02-24T17:57:13.405479Z",
     "iopub.status.busy": "2025-02-24T17:57:13.405078Z",
     "iopub.status.idle": "2025-02-24T17:57:13.408916Z",
     "shell.execute_reply": "2025-02-24T17:57:13.408396Z",
     "shell.execute_reply.started": "2025-02-24T17:57:13.405458Z"
    },
    "nbgrader": {
     "grade": false,
     "grade_id": "cell-bf516813ae33cf9e",
     "locked": false,
     "schema_version": 1,
     "solution": true
    }
   },
   "outputs": [],
   "source": [
    "def prior(num_quasars_expected, num_galaxies_expected, num_stars_expected):\n",
    "    \"\"\"Calculate the prior probability of each model.\n",
    "    \n",
    "    Parameters\n",
    "    ----------\n",
    "    num_quasars_expected : int\n",
    "        Number of expected quasars.\n",
    "    num_galaxies_expected : int\n",
    "        Number of expected galaxies.\n",
    "    num_stars_expected : int\n",
    "        Number of expected stars.\n",
    "    \n",
    "    Returns\n",
    "    -------\n",
    "    dict\n",
    "        Dictionary of prior probabilities for each model with keys 'quasar',\n",
    "        'galaxy' and 'star'.\n",
    "    \"\"\"\n",
    "    # YOUR CODE HERE\n",
    "    total = num_quasars_expected + num_galaxies_expected + num_stars_expected\n",
    "    \n",
    "    priors = {\n",
    "        'quasar': num_quasars_expected / total,\n",
    "        'galaxy': num_galaxies_expected / total,\n",
    "        'star': num_stars_expected / total\n",
    "    }\n",
    "    \n",
    "    return priors"
   ]
  },
  {
   "cell_type": "code",
   "execution_count": 6,
   "metadata": {
    "execution": {
     "iopub.execute_input": "2025-02-24T17:57:13.409876Z",
     "iopub.status.busy": "2025-02-24T17:57:13.409627Z",
     "iopub.status.idle": "2025-02-24T17:57:13.413128Z",
     "shell.execute_reply": "2025-02-24T17:57:13.412616Z",
     "shell.execute_reply.started": "2025-02-24T17:57:13.409855Z"
    },
    "nbgrader": {
     "grade": true,
     "grade_id": "cell-67ac4a99d1ac73df",
     "locked": true,
     "points": 1,
     "schema_version": 1,
     "solution": false
    }
   },
   "outputs": [],
   "source": [
    "# A correct solution should pass these tests.\n",
    "assert prior(100, 100, 200) == {'quasar': 0.25, 'galaxy': 0.25, 'star': 0.5}\n",
    "assert prior(100, 100, 600) == {'quasar': 0.125, 'galaxy': 0.125, 'star': 0.75}"
   ]
  },
  {
   "cell_type": "markdown",
   "metadata": {},
   "source": [
    "You have now the code necessary to quantify how well your quasar identification algorithm performs in regions with different densities of stars, using the posterior probability $P(\\text{quasar}\\mid \\text{True})$.  For example, if the stellar density increases 3 times (from 200 to 600 per image) with fixed quasar and galaxy densities (100 each), the posterior probability drops from 0.615 to 0.381:"
   ]
  },
  {
   "cell_type": "code",
   "execution_count": 7,
   "metadata": {
    "execution": {
     "iopub.execute_input": "2025-02-24T17:57:13.414116Z",
     "iopub.status.busy": "2025-02-24T17:57:13.413864Z",
     "iopub.status.idle": "2025-02-24T17:57:13.419366Z",
     "shell.execute_reply": "2025-02-24T17:57:13.418840Z",
     "shell.execute_reply.started": "2025-02-24T17:57:13.414094Z"
    }
   },
   "outputs": [],
   "source": [
    "import IPython.display\n",
    "\n",
    "def Learn(prior, likelihood, *data):\n",
    "    \"\"\"Learn from data using Bayesian inference.\n",
    "\n",
    "    Assumes that the model and data spaces are discrete.\n",
    "\n",
    "    Parameters\n",
    "    ----------\n",
    "    prior : dict\n",
    "        Dictionary of prior probabilities for all possible models.\n",
    "    likelihood : callable\n",
    "        Called with args (D,M) and must return a normalized likelihood.\n",
    "    data : variable-length list\n",
    "        Zero or more items of data to use in updating the prior.\n",
    "    \"\"\"\n",
    "    # Initialize the Bayes' rule numerator for each model.\n",
    "    prob = prior.copy()\n",
    "    history = [('PRIOR', prior)]\n",
    "    # Loop over data.\n",
    "    for D in data:\n",
    "        # Update the Bayes' rule numerator for each model.\n",
    "        prob = {M: prob[M] * likelihood(D, M) for M in prob}\n",
    "        # Calculate the Bayes' rule denominator.\n",
    "        norm = sum(prob.values())\n",
    "        # Calculate the posterior probabilities for each model.\n",
    "        prob = {M: prob[M] / norm for M in prob}\n",
    "        history.append(('D={}'.format(D), prob))\n",
    "    # Print our learning history.\n",
    "    index, rows = zip(*history)\n",
    "    IPython.display.display(pd.DataFrame(list(rows), index=index).round(3))"
   ]
  },
  {
   "cell_type": "code",
   "execution_count": 8,
   "metadata": {
    "execution": {
     "iopub.execute_input": "2025-02-24T17:57:13.420416Z",
     "iopub.status.busy": "2025-02-24T17:57:13.420031Z",
     "iopub.status.idle": "2025-02-24T17:57:13.437734Z",
     "shell.execute_reply": "2025-02-24T17:57:13.437186Z",
     "shell.execute_reply.started": "2025-02-24T17:57:13.420390Z"
    }
   },
   "outputs": [
    {
     "data": {
      "text/html": [
       "<div>\n",
       "<style scoped>\n",
       "    .dataframe tbody tr th:only-of-type {\n",
       "        vertical-align: middle;\n",
       "    }\n",
       "\n",
       "    .dataframe tbody tr th {\n",
       "        vertical-align: top;\n",
       "    }\n",
       "\n",
       "    .dataframe thead th {\n",
       "        text-align: right;\n",
       "    }\n",
       "</style>\n",
       "<table border=\"1\" class=\"dataframe\">\n",
       "  <thead>\n",
       "    <tr style=\"text-align: right;\">\n",
       "      <th></th>\n",
       "      <th>quasar</th>\n",
       "      <th>galaxy</th>\n",
       "      <th>star</th>\n",
       "    </tr>\n",
       "  </thead>\n",
       "  <tbody>\n",
       "    <tr>\n",
       "      <th>PRIOR</th>\n",
       "      <td>0.250</td>\n",
       "      <td>0.250</td>\n",
       "      <td>0.500</td>\n",
       "    </tr>\n",
       "    <tr>\n",
       "      <th>D=True</th>\n",
       "      <td>0.615</td>\n",
       "      <td>0.077</td>\n",
       "      <td>0.308</td>\n",
       "    </tr>\n",
       "  </tbody>\n",
       "</table>\n",
       "</div>"
      ],
      "text/plain": [
       "        quasar  galaxy   star\n",
       "PRIOR    0.250   0.250  0.500\n",
       "D=True   0.615   0.077  0.308"
      ]
     },
     "metadata": {},
     "output_type": "display_data"
    },
    {
     "data": {
      "text/html": [
       "<div>\n",
       "<style scoped>\n",
       "    .dataframe tbody tr th:only-of-type {\n",
       "        vertical-align: middle;\n",
       "    }\n",
       "\n",
       "    .dataframe tbody tr th {\n",
       "        vertical-align: top;\n",
       "    }\n",
       "\n",
       "    .dataframe thead th {\n",
       "        text-align: right;\n",
       "    }\n",
       "</style>\n",
       "<table border=\"1\" class=\"dataframe\">\n",
       "  <thead>\n",
       "    <tr style=\"text-align: right;\">\n",
       "      <th></th>\n",
       "      <th>quasar</th>\n",
       "      <th>galaxy</th>\n",
       "      <th>star</th>\n",
       "    </tr>\n",
       "  </thead>\n",
       "  <tbody>\n",
       "    <tr>\n",
       "      <th>PRIOR</th>\n",
       "      <td>0.125</td>\n",
       "      <td>0.125</td>\n",
       "      <td>0.750</td>\n",
       "    </tr>\n",
       "    <tr>\n",
       "      <th>D=True</th>\n",
       "      <td>0.381</td>\n",
       "      <td>0.048</td>\n",
       "      <td>0.571</td>\n",
       "    </tr>\n",
       "  </tbody>\n",
       "</table>\n",
       "</div>"
      ],
      "text/plain": [
       "        quasar  galaxy   star\n",
       "PRIOR    0.125   0.125  0.750\n",
       "D=True   0.381   0.048  0.571"
      ]
     },
     "metadata": {},
     "output_type": "display_data"
    }
   ],
   "source": [
    "Learn(prior(100, 100, 200), likelihood, True)\n",
    "Learn(prior(100, 100, 600), likelihood, True)"
   ]
  },
  {
   "cell_type": "markdown",
   "metadata": {},
   "source": [
    "## <span style=\"color:Orange\">Problem 2</span>"
   ]
  },
  {
   "cell_type": "markdown",
   "metadata": {},
   "source": [
    "Suppose you measure a random process that follows an [exponential decay law](https://en.wikipedia.org/wiki/Exponential_decay) for the number $n(t)$ of un-decayed states as a function of time $t$:\n",
    "$$\n",
    "\\frac{dn}{dt} = -\\lambda n \\; ,\n",
    "$$\n",
    "and want to infer the posterior probability of the decay rate $\\lambda$ given your data.\n",
    "\n",
    "First, implement the function below to evaluate the likelihood of observing $N$ decay times $D = \\{t_1, t_2, \\ldots\\}$ as:\n",
    "$$\n",
    "P(D\\mid \\lambda) = \\prod_{i=1}^{N}\\, P(t_i\\mid \\lambda)\n",
    "$$\n",
    "where the **un-normalized** probability density for exponential decay is:\n",
    "$$\n",
    "P(t\\mid \\lambda) \\propto \\exp(-\\lambda t) \\; .\n",
    "$$"
   ]
  },
  {
   "cell_type": "code",
   "execution_count": 9,
   "metadata": {
    "execution": {
     "iopub.execute_input": "2025-02-24T17:57:13.438849Z",
     "iopub.status.busy": "2025-02-24T17:57:13.438440Z",
     "iopub.status.idle": "2025-02-24T17:57:13.442205Z",
     "shell.execute_reply": "2025-02-24T17:57:13.441684Z",
     "shell.execute_reply.started": "2025-02-24T17:57:13.438828Z"
    },
    "nbgrader": {
     "grade": false,
     "grade_id": "cell-c0dbc24f1cd97593",
     "locked": false,
     "schema_version": 1,
     "solution": true
    }
   },
   "outputs": [],
   "source": [
    "def decay_likelihood(decay_times, lam):\n",
    "    \"\"\"Calculate the normalized likelihood of measured times assuming a decay rate.\n",
    "    \"\"\"\n",
    "    # YOUR CODE HERE\n",
    "    N = len(decay_times)\n",
    "    # For no data, the likelihood is defined as 1.\n",
    "    if N == 0:\n",
    "        return 1.0\n",
    "    \n",
    "    total_time = np.sum(decay_times)\n",
    "    likelihood = (lam ** N) * np.exp(-lam * total_time)\n",
    "    return likelihood"
   ]
  },
  {
   "cell_type": "code",
   "execution_count": 10,
   "metadata": {
    "execution": {
     "iopub.execute_input": "2025-02-24T17:57:13.443156Z",
     "iopub.status.busy": "2025-02-24T17:57:13.442947Z",
     "iopub.status.idle": "2025-02-24T17:57:13.448062Z",
     "shell.execute_reply": "2025-02-24T17:57:13.447520Z",
     "shell.execute_reply.started": "2025-02-24T17:57:13.443136Z"
    },
    "nbgrader": {
     "grade": true,
     "grade_id": "cell-6920ac5d023a6196",
     "locked": true,
     "points": 1,
     "schema_version": 1,
     "solution": false
    }
   },
   "outputs": [],
   "source": [
    "# A correct solution should pass these tests.\n",
    "assert decay_likelihood([], 1) == 1\n",
    "assert np.round(decay_likelihood([1], 0.1), 4) == 0.0905\n",
    "assert np.round(decay_likelihood([1], 1.0), 4) == 0.3679\n",
    "assert np.round(decay_likelihood([1], 1.5), 4) == 0.3347\n",
    "assert np.round(decay_likelihood([1,2,1], 0.1), 4) == 0.0007\n",
    "assert np.round(decay_likelihood([1,2,1], 1.0), 4) == 0.0183\n",
    "assert np.round(decay_likelihood([1,2,1], 1.5), 4) == 0.0084"
   ]
  },
  {
   "cell_type": "markdown",
   "metadata": {},
   "source": [
    "For our prior, we use the [Gamma distribution](https://en.wikipedia.org/wiki/Gamma_distribution), which has two hyperparameters $\\alpha$ and $\\beta$:\n",
    "$$\n",
    "P(\\lambda\\mid \\alpha,\\beta) = \\frac{\\beta^\\alpha \\lambda^{\\alpha-1} e^{-\\beta\\lambda}}{\\Gamma(\\alpha)} \\; .\n",
    "$$\n",
    "Implement the function below to evaluate the Gamma distribtion PDF using a numpy expression for the numerator and [scipy.special.gamma](https://docs.scipy.org/doc/scipy/reference/generated/scipy.special.gamma.html) for the denominator:"
   ]
  },
  {
   "cell_type": "code",
   "execution_count": 11,
   "metadata": {
    "execution": {
     "iopub.execute_input": "2025-02-24T17:57:13.448976Z",
     "iopub.status.busy": "2025-02-24T17:57:13.448761Z",
     "iopub.status.idle": "2025-02-24T17:57:13.452464Z",
     "shell.execute_reply": "2025-02-24T17:57:13.451960Z",
     "shell.execute_reply.started": "2025-02-24T17:57:13.448955Z"
    },
    "nbgrader": {
     "grade": false,
     "grade_id": "cell-e4d295f08943b3c7",
     "locked": false,
     "schema_version": 1,
     "solution": true
    }
   },
   "outputs": [],
   "source": [
    "import scipy.special\n",
    "\n",
    "def gamma_distribution(lam, alpha, beta):\n",
    "    \"\"\"Evaluate the gamma distribution.\n",
    "    \"\"\"\n",
    "    # YOUR CODE HERE\n",
    "    numerator = (beta ** alpha) * (lam ** (alpha - 1)) * np.exp(-beta * lam)\n",
    "    denominator = scipy.special.gamma(alpha)\n",
    "    return numerator / denominator"
   ]
  },
  {
   "cell_type": "code",
   "execution_count": 12,
   "metadata": {
    "execution": {
     "iopub.execute_input": "2025-02-24T17:57:13.453387Z",
     "iopub.status.busy": "2025-02-24T17:57:13.453179Z",
     "iopub.status.idle": "2025-02-24T17:57:13.460393Z",
     "shell.execute_reply": "2025-02-24T17:57:13.459876Z",
     "shell.execute_reply.started": "2025-02-24T17:57:13.453366Z"
    },
    "nbgrader": {
     "grade": true,
     "grade_id": "cell-9ad8e44e75e3939c",
     "locked": true,
     "points": 1,
     "schema_version": 1,
     "solution": false
    }
   },
   "outputs": [],
   "source": [
    "# A correct solution should pass these tests.\n",
    "import scipy.stats\n",
    "assert gamma_distribution(1, 0, 1) == 0\n",
    "assert gamma_distribution(1, 1, 0) == 0\n",
    "for lam in (0.1, 1, 2):\n",
    "    for alpha, beta in (1, 1), (2, 1), (2, 2):\n",
    "        assert np.allclose(\n",
    "            gamma_distribution(lam, alpha, beta),\n",
    "            scipy.stats.gamma.pdf(lam, a=alpha, scale=1/beta))"
   ]
  },
  {
   "cell_type": "markdown",
   "metadata": {},
   "source": [
    "The advantage of this choice of prior is that the evidence integral can be performed analytically:\n",
    "$$\n",
    "P(D\\mid \\alpha,\\beta) = \\int d\\lambda\\, P(D\\mid\\lambda)\\, P(P(\\lambda\\mid \\alpha,\\beta)\n",
    "= \\frac{\\beta^\\alpha (\\beta + T)^{-(\\alpha+N)} \\Gamma(\\alpha+N)}{\\Gamma(\\alpha)} \\; .\n",
    "$$\n",
    "Use this result to convince yourself that the posterior $P(\\lambda\\mid D,\\alpha,\\beta)$ is another Gamma distribution, but with different hyperparameter values $\\alpha'$ and $\\beta'$.  Priors and posteriors with the same functional form for some likelihood are called [conjugate priors](https://en.wikipedia.org/wiki/Conjugate_prior).\n",
    "\n",
    "Implement the function below to learn from measured decay times by updating the prior hyperparameters:"
   ]
  },
  {
   "cell_type": "code",
   "execution_count": 13,
   "metadata": {
    "execution": {
     "iopub.execute_input": "2025-02-24T17:57:13.461303Z",
     "iopub.status.busy": "2025-02-24T17:57:13.461093Z",
     "iopub.status.idle": "2025-02-24T17:57:13.464633Z",
     "shell.execute_reply": "2025-02-24T17:57:13.464133Z",
     "shell.execute_reply.started": "2025-02-24T17:57:13.461283Z"
    },
    "nbgrader": {
     "grade": false,
     "grade_id": "cell-eaddca141d275ef6",
     "locked": false,
     "schema_version": 1,
     "solution": true
    }
   },
   "outputs": [],
   "source": [
    "def rate_learn(prior_alpha, prior_beta, decay_times):\n",
    "    \"\"\"Learn from data to update hyperparameters.\n",
    "    \n",
    "    Parameters\n",
    "    ----------\n",
    "    prior_alpha : float\n",
    "        Hyperparameter alpha for the prior Gamma distribution PDF.\n",
    "    prior_beta : float\n",
    "        Hyperparameter beta for the prior Gamma distribution PDF.\n",
    "    decay_times : array\n",
    "        Array of observed decay times.\n",
    "        \n",
    "    Returns\n",
    "    -------\n",
    "    tuple\n",
    "        Tuple (post_alpha, post_beta) of hyperparameter values for the\n",
    "        posterior Gamma distribution PDF.\n",
    "    \"\"\"\n",
    "    # YOUR CODE HERE\n",
    "    return (prior_alpha + len(decay_times), prior_beta + np.sum(decay_times))"
   ]
  },
  {
   "cell_type": "code",
   "execution_count": 14,
   "metadata": {
    "execution": {
     "iopub.execute_input": "2025-02-24T17:57:13.466689Z",
     "iopub.status.busy": "2025-02-24T17:57:13.466472Z",
     "iopub.status.idle": "2025-02-24T17:57:13.470631Z",
     "shell.execute_reply": "2025-02-24T17:57:13.470113Z",
     "shell.execute_reply.started": "2025-02-24T17:57:13.466669Z"
    },
    "nbgrader": {
     "grade": true,
     "grade_id": "cell-cd3655417a5e4431",
     "locked": true,
     "points": 0,
     "schema_version": 1,
     "solution": false
    }
   },
   "outputs": [],
   "source": [
    "# A correct solution should pass these tests.\n",
    "assert rate_learn(1, 1, []) == (1, 1)\n",
    "assert rate_learn(2, 1, []) == (2, 1)\n",
    "assert rate_learn(1, 2, []) == (1, 2)\n",
    "assert np.allclose(\n",
    "    np.round(rate_learn(np.sqrt(10), np.pi, [1,2,1]), 3),\n",
    "    (6.162, 7.142))"
   ]
  },
  {
   "cell_type": "markdown",
   "metadata": {},
   "source": [
    "You can use the function below to test your code visually and confirm that better data reduces the influence of the prior:"
   ]
  },
  {
   "cell_type": "code",
   "execution_count": 15,
   "metadata": {
    "execution": {
     "iopub.execute_input": "2025-02-24T17:57:13.471495Z",
     "iopub.status.busy": "2025-02-24T17:57:13.471284Z",
     "iopub.status.idle": "2025-02-24T17:57:13.477978Z",
     "shell.execute_reply": "2025-02-24T17:57:13.477471Z",
     "shell.execute_reply.started": "2025-02-24T17:57:13.471475Z"
    }
   },
   "outputs": [],
   "source": [
    "def rate_learn_plot(prior_alpha, prior_beta, num_decays, true_lam, seed=123):\n",
    "    \"\"\"\n",
    "    \"\"\"\n",
    "    # Generate some random decays using the true decay rate.\n",
    "    gen = np.random.RandomState(seed=seed)\n",
    "    decay_times = scipy.stats.expon.rvs(scale=1 / true_lam, size=num_decays, random_state=gen)\n",
    "    \n",
    "    # Use Bayes' rule to learn from the data.\n",
    "    lam = np.linspace(0., 2.5 * true_lam, 250)\n",
    "    prior = [gamma_distribution(l, prior_alpha, prior_beta) for l in lam]\n",
    "    like = [decay_likelihood(decay_times, l) for l in lam]\n",
    "    post_alpha, post_beta = rate_learn(prior_alpha, prior_beta, decay_times) \n",
    "    post = [gamma_distribution(l, post_alpha, post_beta) for l in lam]\n",
    "    \n",
    "    # Plot a summary of the learning process.\n",
    "    plt.fill_between(lam, prior, alpha=0.25)\n",
    "    plt.plot(lam, prior, label='Prior')\n",
    "    plt.plot(lam, like / np.max(like) * np.max(prior), 'k:', label='Likelihood')\n",
    "    plt.fill_between(lam, post, alpha=0.25)\n",
    "    plt.plot(lam, post, label='Posterior')\n",
    "    plt.axvline(true_lam, c='r', ls='--')\n",
    "    plt.xlabel('Decay rate $\\lambda$')\n",
    "    plt.legend(loc='upper right', fontsize='x-large')\n",
    "    plt.xlim(0, lam[-1])\n",
    "    plt.ylim(0, None)"
   ]
  },
  {
   "cell_type": "code",
   "execution_count": 16,
   "metadata": {
    "execution": {
     "iopub.execute_input": "2025-02-24T17:57:13.478922Z",
     "iopub.status.busy": "2025-02-24T17:57:13.478705Z",
     "iopub.status.idle": "2025-02-24T17:57:14.014966Z",
     "shell.execute_reply": "2025-02-24T17:57:14.014392Z",
     "shell.execute_reply.started": "2025-02-24T17:57:13.478902Z"
    }
   },
   "outputs": [
    {
     "data": {
      "image/png": "[encoded data removed]",
      "text/plain": [
       "<Figure size 640x480 with 1 Axes>"
      ]
     },
     "metadata": {},
     "output_type": "display_data"
    }
   ],
   "source": [
    "rate_learn_plot(prior_alpha=1, prior_beta=0.2, num_decays=10, true_lam=5)"
   ]
  },
  {
   "cell_type": "code",
   "execution_count": 17,
   "metadata": {
    "execution": {
     "iopub.execute_input": "2025-02-24T17:57:14.015980Z",
     "iopub.status.busy": "2025-02-24T17:57:14.015761Z",
     "iopub.status.idle": "2025-02-24T17:57:14.428720Z",
     "shell.execute_reply": "2025-02-24T17:57:14.428175Z",
     "shell.execute_reply.started": "2025-02-24T17:57:14.015959Z"
    }
   },
   "outputs": [
    {
     "data": {
      "image/png": "[encoded data removed]",
      "text/plain": [
       "<Figure size 640x480 with 1 Axes>"
      ]
     },
     "metadata": {},
     "output_type": "display_data"
    }
   ],
   "source": [
    "rate_learn_plot(prior_alpha=1, prior_beta=0.2, num_decays=100, true_lam=5)"
   ]
  },
  {
   "cell_type": "markdown",
   "metadata": {},
   "source": [
    "## <span style=\"color:Orange\">Problem 3</span>"
   ]
  },
  {
   "cell_type": "markdown",
   "metadata": {},
   "source": [
    "In this problem you will solve the same decay rate inference problem but this time using a numerical estimate based on Markov-chain Monte Carlo (MCMC).\n",
    "\n",
    "Recall that `MCMC_sample()` generates samples using a function proportional to the desired PDF. Implement the function below to evaluate the logarithm of the un-normalized posterior probability density:\n",
    "$$\n",
    "\\log P(D\\mid \\lambda) + \\log P(\\lambda\\mid \\alpha, \\beta) \\; .\n",
    "$$\n",
    "Do not call your `decay_likelihood()` or `gamma_distribution()` functions in your implementation since the result has better accuracy if you apply the logarithm and simplify analytically. Since MCMC sampling only requires a function proportional to the desired PDF, you can drop any factors in $P(D\\mid \\lambda)$ or $P(\\lambda\\mid \\alpha, \\beta)$ that do not depend on $\\lambda$."
   ]
  },
  {
   "cell_type": "code",
   "execution_count": 28,
   "metadata": {
    "execution": {
     "iopub.execute_input": "2025-02-24T18:03:50.104947Z",
     "iopub.status.busy": "2025-02-24T18:03:50.104591Z",
     "iopub.status.idle": "2025-02-24T18:03:50.109720Z",
     "shell.execute_reply": "2025-02-24T18:03:50.109111Z",
     "shell.execute_reply.started": "2025-02-24T18:03:50.104923Z"
    },
    "nbgrader": {
     "grade": false,
     "grade_id": "cell-3dc153e6b399100c",
     "locked": false,
     "schema_version": 1,
     "solution": true
    }
   },
   "outputs": [],
   "source": [
    "def decay_logf(lam, decay_times, prior_alpha, prior_beta):\n",
    "    \"\"\"Evaluate a function proportional to the log-posterior probability density.\n",
    "    \n",
    "    Parameters\n",
    "    ----------\n",
    "    lam : float\n",
    "        Decay rate parameter.\n",
    "    decay_times : array\n",
    "        Array of observed decay times.\n",
    "    prior_alpha : float\n",
    "        Hyperparameter alpha for the prior Gamma distribution PDF.\n",
    "    prior_beta : float\n",
    "        Hyperparameter beta for the prior Gamma distribution PDF.\n",
    "    \n",
    "    Returns\n",
    "    -------\n",
    "    float\n",
    "        log P(D|lam) + log P(lam|alpha,beta) up to a constant that does not\n",
    "        depend on the value of lam. Returns -np.inf when lam <= 0.\n",
    "    \"\"\"\n",
    "    lam = np.squeeze(np.array(lam))\n",
    "    \n",
    "    if lam <= 0:\n",
    "        return -np.inf\n",
    "    \n",
    "    N = len(decay_times)\n",
    "    T = np.sum(decay_times)\n",
    "    \n",
    "    # Compute log-posterior (dropping any constant terms)\n",
    "    log_posterior = (prior_alpha + N - 1) * np.log(lam) - lam * (prior_beta + T)\n",
    "    return log_posterior"
   ]
  },
  {
   "cell_type": "code",
   "execution_count": 29,
   "metadata": {
    "execution": {
     "iopub.execute_input": "2025-02-24T18:03:50.550842Z",
     "iopub.status.busy": "2025-02-24T18:03:50.550260Z",
     "iopub.status.idle": "2025-02-24T18:03:50.557046Z",
     "shell.execute_reply": "2025-02-24T18:03:50.556463Z",
     "shell.execute_reply.started": "2025-02-24T18:03:50.550816Z"
    },
    "nbgrader": {
     "grade": true,
     "grade_id": "cell-4c5f25379db996d1",
     "locked": true,
     "points": 1,
     "schema_version": 1,
     "solution": false
    }
   },
   "outputs": [],
   "source": [
    "# A correct solution should pass these tests.\n",
    "a, b = 1, 0.2\n",
    "offset = decay_logf(1, [], a, b)\n",
    "assert np.allclose(decay_logf(0.1, [], a, b) - offset, +0.18)\n",
    "assert np.allclose(decay_logf(2, [], a, b) - offset, -0.2)\n",
    "assert np.allclose(np.round(decay_logf(0.1, [1,2,1], a, b), 3) - offset, -7.128)\n",
    "assert np.allclose(np.round(decay_logf(1, [1,2,1], a, b), 3) - offset, -4.000)\n",
    "assert np.allclose(np.round(decay_logf(2, [1,2,1], a, b), 3) - offset, -6.121)"
   ]
  },
  {
   "cell_type": "markdown",
   "metadata": {},
   "source": [
    "You can use the function below to test your numerical solution and compare with the posterior found using `rate_learn_plot` above."
   ]
  },
  {
   "cell_type": "code",
   "execution_count": 30,
   "metadata": {
    "execution": {
     "iopub.execute_input": "2025-02-24T18:03:53.253783Z",
     "iopub.status.busy": "2025-02-24T18:03:53.253443Z",
     "iopub.status.idle": "2025-02-24T18:03:53.267645Z",
     "shell.execute_reply": "2025-02-24T18:03:53.267063Z",
     "shell.execute_reply.started": "2025-02-24T18:03:53.253760Z"
    }
   },
   "outputs": [],
   "source": [
    "import functools\n",
    "import inspect\n",
    "import emcee\n",
    "\n",
    "def wrap(func, **kwargs):\n",
    "    \"\"\"Prepare an arbitrary function to use with emcee sampling.\n",
    "\n",
    "    Emcee expects its parameters in a single list, but it is sometimes more\n",
    "    convenient to write a function in terms of named parameters and\n",
    "    hyperparameters. This method uses introspection to wrap an arbitrary\n",
    "    function with named parameters so that it has the signature expected\n",
    "    by emcee.\n",
    "\n",
    "    For example:\n",
    "\n",
    "        def f(x,y,a,b): ...\n",
    "        wrap(f, x=[1], y=[2], a=3, b=4, c=3, d=4)\n",
    "\n",
    "    returns a tuple (wrapped, ['x','y'], [1,2], {'c':3, 'd':4}) where:\n",
    "\n",
    "      - wrapped([p,q]) calls f(x=p,y=q,a=3,b=4)\n",
    "      - [1,2] are the initial values to use for parameters named ['x','y'].\n",
    "      - {'c':3, 'd':4} are the input kwargs with args of f() removed.\n",
    "\n",
    "    The square brackets identify floating arguments and specify their initial\n",
    "    value. An optional callable to evaluate a log-prior can also be passed,\n",
    "    for example:\n",
    "\n",
    "        wrap(f, x=[1,px], y=[2,py], a=3, b=4, c=3, d=4)\n",
    "\n",
    "    where px(x) and py(y) return the (un-normalized) log of the priors on\n",
    "    x and y to use during posterior sampling.\n",
    "\n",
    "    Parameters\n",
    "    ----------\n",
    "    func : callable\n",
    "        The function that should be prepared. It is assumed to have only\n",
    "        numerical arguments that accept any floating point values.\n",
    "    **kwargs : keyword arguments\n",
    "        All arguments of func must be included and assigned a value.\n",
    "        Arguments assigned a floating point value are considered fixed\n",
    "        during sampling.  Arguments assigned a floating point value\n",
    "        within a list, e.g., [1.2], will be sampled using the initial\n",
    "        value provided.  Sampled arguments can optionally also specify\n",
    "        a log-prior distribution using, e.g. [1.2, lnprior], where lnprior\n",
    "        is a function of the sampled argument that returns the log prior\n",
    "        probability density (which does not need to be normalized).\n",
    "\n",
    "    Returns\n",
    "    -------\n",
    "    tuple\n",
    "        Tuple (wrapped, names, values, kwargs). See example above for details.\n",
    "    \"\"\"\n",
    "    fixed = {}\n",
    "    names, values, lnpriors = [], [], []\n",
    "    funcsig = inspect.signature(func)\n",
    "    try:\n",
    "        funcargs = {name: kwargs[name] for name in funcsig.parameters}\n",
    "    except KeyError:\n",
    "        raise ValueError('Missing arguments.')\n",
    "    bound = funcsig.bind(**funcargs)\n",
    "    bound.apply_defaults()\n",
    "    NoPrior = lambda x: 0.\n",
    "    for name, value in bound.arguments.items():\n",
    "        if isinstance(value, list):\n",
    "            names.append(name)\n",
    "            values.append(value.pop(0))\n",
    "            lnpriors.append(value.pop(0) if value else NoPrior)\n",
    "            if value:\n",
    "                raise ValueError('Invalid syntax for argument {}.'.format(name))\n",
    "        else:\n",
    "            fixed[name] = value\n",
    "    partial = functools.partial(func, **fixed)\n",
    "    def wrapped(theta):\n",
    "        if len(theta) != len(names):\n",
    "            raise ValueError('expected list of {} values.'.format(len(names)))\n",
    "        result = 0.\n",
    "        for lnprior, value in zip(lnpriors, theta):\n",
    "            result += lnprior(value)\n",
    "            if not np.isfinite(result):\n",
    "                # theta is not allowed by this prior.\n",
    "                return -np.inf\n",
    "        args = dict(zip(names, theta))\n",
    "        result += partial(**args)\n",
    "        return result\n",
    "    # Remove function args from kwargs.\n",
    "    for name in funcargs:\n",
    "        kwargs.pop(name, None)\n",
    "    return wrapped, names, values, kwargs\n",
    "\n",
    "\n",
    "def sample(func, names, values, nwalkers=20, nsamples=1000, abs_rms=1e-4,\n",
    "           frac_rms=1e-3, burnin=100, random_state=None):\n",
    "    \"\"\"Generate MCMC samples of the un-normalized PDF func() using emcee.\n",
    "\n",
    "    Can be used standalone but intended to work with :func:`wrap`.\n",
    "\n",
    "    Initial values for each walker are Gaussian samples centered on the\n",
    "    input values with an RMS of max(abs_rms, frac_rms * values).\n",
    "\n",
    "    Parameters\n",
    "    ----------\n",
    "    func : callable\n",
    "        Evaluate the log PDF to sample. Passed a single list of parameter\n",
    "        values. Can be prepared using :func:`wrap`.\n",
    "    names : iterable\n",
    "        List of names for each floating parameter.  Used to label columns\n",
    "        in the returned DataFrame. Can be prepared using :func:`wrap`.\n",
    "    values : iterable\n",
    "        List of initial values for each floating parameter.  Used to center\n",
    "        random initial values for each walker. Can be prepared using\n",
    "        :func:`wrap`.\n",
    "    nwalkers : int\n",
    "        The number of emcee walkers to use.\n",
    "    nsamples : int\n",
    "        The total number of samples to return, after combining walkers\n",
    "        and trimming initial burnin.\n",
    "    abs_rms : float\n",
    "        Used to set walker initial values.  See above for details.\n",
    "    rel_rms : float\n",
    "        Used to set walker initial values.  See above for details.\n",
    "    burnin : int\n",
    "        The number of samples to remove from each walker's chain.\n",
    "    random_state : np.random.RandomState or None\n",
    "        The random state to use for reproducible chains.\n",
    "\n",
    "    Returns\n",
    "    -------\n",
    "    pandas.DataFrame\n",
    "        Generated samples in a dataframe, using the inputs names for columns.\n",
    "    \"\"\"\n",
    "    if random_state is None:\n",
    "        random_state = np.random.RandomState()\n",
    "    # Generate sampler starting points.\n",
    "    ndim = len(names)\n",
    "    values = np.array(values, float)\n",
    "    initial = np.tile(values, (nwalkers, 1))\n",
    "    rms = np.maximum(abs_rms, frac_rms * values)\n",
    "    initial += rms * random_state.normal(size=(nwalkers, ndim))\n",
    "    # Initialize and run sampler.\n",
    "    sampler = emcee.EnsembleSampler(nwalkers, ndim, func)\n",
    "    n_per_chain = 1 + nsamples // nwalkers + burnin\n",
    "    sampler.run_mcmc(initial, n_per_chain, rstate0=random_state.get_state())\n",
    "    # Remove burnin and return results in a DataFrame.\n",
    "    chain = sampler.chain[:, burnin:].reshape(-1, ndim)[:nsamples]\n",
    "    return pd.DataFrame(chain, columns=names)\n",
    "\n",
    "\n",
    "def MCMC_sample(func, **kwargs):\n",
    "    \"\"\"Generate random samples from an un-normalized PDF.\n",
    "\n",
    "    See :func:`wrap` and :func:`sample` for details.\n",
    "\n",
    "    Parameters\n",
    "    ----------\n",
    "    func : callable\n",
    "        Function to evaluate log(f(...)) where f(...) is proportional\n",
    "        to the desired probability density.  Will be wrapped to\n",
    "        determine which arguments are sampled and which are fixed.\n",
    "    **kwargs : keyword arguments\n",
    "        Used to configure the wrapping of func and the sampler.\n",
    "\n",
    "    Returns\n",
    "    -------\n",
    "    pandas.DataFrame\n",
    "        Generated samples in a dataframe, with one named column per\n",
    "        sampled argument of the input function.\n",
    "    \"\"\"\n",
    "    # Wrap the input function.\n",
    "    wrapped, names, values, kwargs = wrap(func, **kwargs)\n",
    "    # Generate emcee samples.\n",
    "    return sample(wrapped, names, values, **kwargs)"
   ]
  },
  {
   "cell_type": "code",
   "execution_count": 31,
   "metadata": {
    "execution": {
     "iopub.execute_input": "2025-02-24T18:03:53.779086Z",
     "iopub.status.busy": "2025-02-24T18:03:53.778785Z",
     "iopub.status.idle": "2025-02-24T18:03:53.784232Z",
     "shell.execute_reply": "2025-02-24T18:03:53.783656Z",
     "shell.execute_reply.started": "2025-02-24T18:03:53.779064Z"
    }
   },
   "outputs": [],
   "source": [
    "def MCMC_rate_learn_plot(prior_alpha, prior_beta, num_decays, true_lam, seed=123):\n",
    "    # Generate some random decays using the true decay rate.\n",
    "    gen = np.random.RandomState(seed=seed)\n",
    "    decay_times = scipy.stats.expon.rvs(scale=1 / true_lam, size=num_decays, random_state=gen)\n",
    "    # Generate MCMC samples of the decay rate for this data with this prior.\n",
    "    samples = MCMC_sample(decay_logf, lam=[true_lam], decay_times=decay_times,\n",
    "                          prior_alpha=prior_alpha, prior_beta=prior_beta, nsamples=20000)\n",
    "    # Plot samples.\n",
    "    plt.hist(samples['lam'], range=(0, 2.5 * true_lam), bins=40, density=True)\n",
    "    plt.axvline(true_lam, c='r', ls='--')\n",
    "    plt.xlabel('Decay rate $\\lambda$')\n",
    "    plt.xlim(0, 2.5 * true_lam)"
   ]
  },
  {
   "cell_type": "code",
   "execution_count": 32,
   "metadata": {
    "execution": {
     "iopub.execute_input": "2025-02-24T18:03:54.338340Z",
     "iopub.status.busy": "2025-02-24T18:03:54.338022Z",
     "iopub.status.idle": "2025-02-24T18:03:55.868673Z",
     "shell.execute_reply": "2025-02-24T18:03:55.868119Z",
     "shell.execute_reply.started": "2025-02-24T18:03:54.338308Z"
    }
   },
   "outputs": [
    {
     "data": {
      "image/png": "[encoded data removed]",
      "text/plain": [
       "<Figure size 640x480 with 1 Axes>"
      ]
     },
     "metadata": {},
     "output_type": "display_data"
    }
   ],
   "source": [
    "MCMC_rate_learn_plot(prior_alpha=1, prior_beta=0.2, num_decays=10, true_lam=5)"
   ]
  },
  {
   "cell_type": "code",
   "execution_count": 33,
   "metadata": {
    "execution": {
     "iopub.execute_input": "2025-02-24T18:03:58.507218Z",
     "iopub.status.busy": "2025-02-24T18:03:58.506890Z",
     "iopub.status.idle": "2025-02-24T18:03:59.898413Z",
     "shell.execute_reply": "2025-02-24T18:03:59.897845Z",
     "shell.execute_reply.started": "2025-02-24T18:03:58.507195Z"
    }
   },
   "outputs": [
    {
     "data": {
      "image/png": "[encoded data removed]",
      "text/plain": [
       "<Figure size 640x480 with 1 Axes>"
      ]
     },
     "metadata": {},
     "output_type": "display_data"
    }
   ],
   "source": [
    "MCMC_rate_learn_plot(prior_alpha=1, prior_beta=0.2, num_decays=100, true_lam=5)"
   ]
  },
  {
   "cell_type": "code",
   "execution_count": 34,
   "metadata": {
    "execution": {
     "iopub.execute_input": "2025-02-24T18:04:15.533074Z",
     "iopub.status.busy": "2025-02-24T18:04:15.532735Z",
     "iopub.status.idle": "2025-02-24T18:04:16.971885Z",
     "shell.execute_reply": "2025-02-24T18:04:16.971313Z",
     "shell.execute_reply.started": "2025-02-24T18:04:15.533050Z"
    }
   },
   "outputs": [
    {
     "data": {
      "image/png": "[encoded data removed]",
      "text/plain": [
       "<Figure size 640x480 with 1 Axes>"
      ]
     },
     "metadata": {},
     "output_type": "display_data"
    }
   ],
   "source": [
    "MCMC_rate_learn_plot(prior_alpha=1, prior_beta=0.2, num_decays=1000, true_lam=5)"
   ]
  },
  {
   "cell_type": "code",
   "execution_count": null,
   "metadata": {},
   "outputs": [],
   "source": []
  }
 ],
 "metadata": {
  "celltoolbar": "Create Assignment",
  "kernelspec": {
   "display_name": "Python 3 (ipykernel)",
   "language": "python",
   "name": "python3"
  },
  "language_info": {
   "codemirror_mode": {
    "name": "ipython",
    "version": 3
   },
   "file_extension": ".py",
   "mimetype": "text/x-python",
   "name": "python",
   "nbconvert_exporter": "python",
   "pygments_lexer": "ipython3",
   "version": "3.11.5"
  }
 },
 "nbformat": 4,
 "nbformat_minor": 4
}
