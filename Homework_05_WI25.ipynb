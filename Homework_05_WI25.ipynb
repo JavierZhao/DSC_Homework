{
 "cells": [
  {
   "cell_type": "markdown",
   "id": "28a00c7d",
   "metadata": {},
   "source": [
    "# Homework 05: Confidence Intervals and Sensitivity"
   ]
  },
  {
   "cell_type": "markdown",
   "id": "3bea38b4",
   "metadata": {},
   "source": [
    "## Problem 1"
   ]
  },
  {
   "cell_type": "markdown",
   "id": "d0e2798a",
   "metadata": {},
   "source": [
    "Write a program to calculate an confidence limits at arbitrary confidence levels for a given number of observed counts (remember those are integers).  Calculate upper and lower limits (if possible) at 68% and 95% CL for observed counts between 0 and 10."
   ]
  },
  {
   "cell_type": "markdown",
   "id": "6d4d3d2e",
   "metadata": {},
   "source": [
    "Hint: Poisson distribution and stats.xxx.ppf may help"
   ]
  },
  {
   "cell_type": "code",
   "execution_count": 1,
   "id": "511553a9",
   "metadata": {},
   "outputs": [],
   "source": [
    "import scipy.stats as stats"
   ]
  },
  {
   "cell_type": "code",
   "execution_count": 8,
   "id": "aea00651",
   "metadata": {},
   "outputs": [],
   "source": [
    "def confidence_limits(observed_count, confidence_level):\n",
    "    \"\"\"\n",
    "    Calculate the confidence limits for a given observed count and confidence level.\n",
    "    \n",
    "    :param observed_count: Number of observed events (integer).\n",
    "    :param confidence_level: Desired confidence level (e.g., 0.68 for 68% CL, 0.95 for 95% CL).\n",
    "    \n",
    "    :return: Tuple (lower_limit, upper_limit).\n",
    "    \"\"\"\n",
    "    # Implement your code below\n",
    "    lower_prob = (1 - confidence_level) / 2\n",
    "    upper_prob = 1 - lower_prob\n",
    "\n",
    "    if observed_count == 0:\n",
    "        # When no events are observed, we define the lower limit as 0.\n",
    "        lower_limit = 0.0\n",
    "        # For the upper limit we use the Garwood interval which amounts to:\n",
    "        #   0.5 * chi2.ppf(upper_prob, 2*(observed_count+1))\n",
    "        upper_limit = 0.5 * stats.chi2.ppf(upper_prob, 2 * (observed_count + 1))\n",
    "    else:\n",
    "        lower_limit = stats.poisson.ppf(lower_prob, observed_count)\n",
    "        upper_limit = stats.poisson.ppf(upper_prob, observed_count)\n",
    "    \n",
    "    return lower_limit, upper_limit"
   ]
  },
  {
   "cell_type": "code",
   "execution_count": 9,
   "id": "f91342f3",
   "metadata": {},
   "outputs": [],
   "source": [
    "assert confidence_limits(100, 0.68) == (90.0, 110.0)\n",
    "assert confidence_limits(100, 0.95) == (81.0, 120.0)"
   ]
  },
  {
   "cell_type": "markdown",
   "id": "0dad3990",
   "metadata": {},
   "source": [
    "## Problem 2"
   ]
  },
  {
   "cell_type": "markdown",
   "id": "76827d6e",
   "metadata": {},
   "source": [
    "In this problem we will do a simplified version of searching for rare event physics signals. In this set up, the background is a flat background in energy space, and the signal we are searching for is a monoenergetic gaussian peak (monoenergetic with energy resolution results in a gaussian peak). We don't consider any efficiency loss (assuming we can detect all signal and background events), and what we are trying to do is to define the models, simulate the \"fake\" events, then fit the signal rate, and find the upperlimit on the signal rate."
   ]
  },
  {
   "cell_type": "markdown",
   "id": "12bcf23f",
   "metadata": {},
   "source": [
    "### Part 1"
   ]
  },
  {
   "cell_type": "markdown",
   "id": "37df8d96",
   "metadata": {},
   "source": [
    "Defining the signal and background models. In those kind of fit (assuming we are using $\\chi^2$ fit), binning is important. Suppose you are expecting 1000 flat bakcground events between 100 and 300 GeV, with a 10 GeV binning, how many events are you expecting in each bin?\n",
    "\n",
    "Note: Carefully deal with bin_edges and bin_centers, len(bin_edges) = len(bin_centers)+1 = n_bins+1"
   ]
  },
  {
   "cell_type": "code",
   "execution_count": 10,
   "id": "f457e139",
   "metadata": {},
   "outputs": [
    {
     "ename": "ModuleNotFoundError",
     "evalue": "No module named 'iminuit'",
     "output_type": "error",
     "traceback": [
      "\u001b[0;31m---------------------------------------------------------------------------\u001b[0m",
      "\u001b[0;31mModuleNotFoundError\u001b[0m                       Traceback (most recent call last)",
      "Cell \u001b[0;32mIn[10], line 4\u001b[0m\n\u001b[1;32m      2\u001b[0m \u001b[38;5;28;01mimport\u001b[39;00m \u001b[38;5;21;01mmath\u001b[39;00m\n\u001b[1;32m      3\u001b[0m \u001b[38;5;28;01mimport\u001b[39;00m \u001b[38;5;21;01mmatplotlib\u001b[39;00m\u001b[38;5;21;01m.\u001b[39;00m\u001b[38;5;21;01mpyplot\u001b[39;00m \u001b[38;5;28;01mas\u001b[39;00m \u001b[38;5;21;01mplt\u001b[39;00m\n\u001b[0;32m----> 4\u001b[0m \u001b[38;5;28;01mfrom\u001b[39;00m \u001b[38;5;21;01miminuit\u001b[39;00m \u001b[38;5;28;01mimport\u001b[39;00m Minuit\n",
      "\u001b[0;31mModuleNotFoundError\u001b[0m: No module named 'iminuit'"
     ]
    }
   ],
   "source": [
    "import numpy as np\n",
    "import math\n",
    "import matplotlib.pyplot as plt\n",
    "from iminuit import Minuit"
   ]
  },
  {
   "cell_type": "code",
   "execution_count": null,
   "id": "47e6a6c3",
   "metadata": {},
   "outputs": [],
   "source": [
    "def background(E_min, E_max, n_bins, B):\n",
    "    '''\n",
    "    Input:\n",
    "        E_min, E_max: min and max of the energy range\n",
    "        n_bins: number of bins within the energy range\n",
    "        B: background event rate, unit: number of events\n",
    "    Output:\n",
    "        bin_centers: array contains the central energy of the energy bins\n",
    "        bkg_counts: array contains the expected number of backgrounds in each energy bin\n",
    "    '''\n",
    "    # Implement your code below\n",
    "    return energies, bkg_counts  # Constant background"
   ]
  },
  {
   "cell_type": "code",
   "execution_count": null,
   "id": "ce47b162",
   "metadata": {},
   "outputs": [],
   "source": [
    "E_min = 100\n",
    "E_max = 300\n",
    "n_bins = 40\n",
    "B = 2000"
   ]
  },
  {
   "cell_type": "code",
   "execution_count": null,
   "id": "fbcbffcf",
   "metadata": {},
   "outputs": [],
   "source": [
    "energies, bkg_counts = background(E_min, E_max, n_bins, B)\n",
    "assert len(energies) == n_bins\n",
    "assert math.isclose(np.sum(bkg_counts), B, abs_tol=1.0)"
   ]
  },
  {
   "cell_type": "code",
   "execution_count": null,
   "id": "66c4b786",
   "metadata": {},
   "outputs": [],
   "source": [
    "def signal(E_min, E_max, n_bins, E_0, sigma, S):\n",
    "    '''\n",
    "    Input:\n",
    "        E_min, E_max: min and max of the energy range\n",
    "        n_bins: number of bins within the energy range\n",
    "        B: background event rate, unit: number of events\n",
    "        E_0: the energy of the monoenergetic signal\n",
    "        sigma: the width of the signal energy spectrum (assuming gaussian)\n",
    "        S: total number of signal events\n",
    "    Output:\n",
    "        bin_centers: array contains the central energy of the energy bins\n",
    "        signal_counts: array contains the expected number of signals in each energy bin\n",
    "    '''\n",
    "    # Implement your code below\n",
    "    return energies, signal_counts"
   ]
  },
  {
   "cell_type": "code",
   "execution_count": null,
   "id": "d6d69af2",
   "metadata": {},
   "outputs": [],
   "source": [
    "E_0 = 250\n",
    "sigma = 10\n",
    "S = 50"
   ]
  },
  {
   "cell_type": "code",
   "execution_count": null,
   "id": "e429af1d",
   "metadata": {},
   "outputs": [],
   "source": [
    "energies, signal_counts = signal(E_min, E_max, n_bins, E_0, sigma, S)\n",
    "assert len(energies) == n_bins\n",
    "assert math.isclose(np.sum(signal_counts), S, abs_tol=0.1)"
   ]
  },
  {
   "cell_type": "markdown",
   "id": "98450b5e",
   "metadata": {},
   "source": [
    "Now we can plot the signal and background model and see how they look like"
   ]
  },
  {
   "cell_type": "code",
   "execution_count": null,
   "id": "59e3ee65",
   "metadata": {},
   "outputs": [],
   "source": [
    "plt.figure(figsize=(7, 5))\n",
    "plt.plot(energies, bkg_counts, alpha=0.7, color='royalblue', label='Background')\n",
    "plt.plot(energies, signal_counts, alpha=0.7, color='darkorange', label='Signal')\n",
    "plt.plot(energies, signal_counts+bkg_counts, alpha=0.7, color='red', label='Total')\n",
    "plt.xlabel('Energy [GeV]', fontsize=14)\n",
    "plt.ylabel('Events / bin', fontsize=14)\n",
    "plt.xticks(fontsize=13)\n",
    "plt.yticks(fontsize=13)\n",
    "plt.legend(frameon=False, fontsize=14)\n",
    "plt.xlim(100, 300)\n",
    "plt.ylim(0, 100)\n",
    "plt.show()"
   ]
  },
  {
   "cell_type": "markdown",
   "id": "d9688657",
   "metadata": {},
   "source": [
    "### Part 2"
   ]
  },
  {
   "cell_type": "markdown",
   "id": "e42c034f",
   "metadata": {},
   "source": [
    "Based on the signal and background model we have defined above, we are able to define our simulation for the \"fake\" events. Assume for each energy bin the observed number of events follows Poisson(expected), where expected is the number of expected events in the bin."
   ]
  },
  {
   "cell_type": "code",
   "execution_count": null,
   "id": "cbb4cb77",
   "metadata": {},
   "outputs": [],
   "source": [
    "def generate_toy_mc(E_min, E_max, n_bins, E_0, sigma, S, B):\n",
    "    '''\n",
    "    Input:\n",
    "        E_min, E_max: min and max of the energy range\n",
    "        n_bins: number of bins within the energy range\n",
    "        E_0: energy of the monoenergetic signal\n",
    "        sigma: width of the signal energy spectrum (assuming Gaussian)\n",
    "        S: total number of signal eventss\n",
    "        B: total number of background events\n",
    "    Output:\n",
    "        toy_data: simulated events in each bin, signal_observed + background_observed\n",
    "    '''\n",
    "    # Implement your code below\n",
    "    return toy_data"
   ]
  },
  {
   "cell_type": "code",
   "execution_count": null,
   "id": "0058127c",
   "metadata": {},
   "outputs": [],
   "source": [
    "# Set random seed for reproducibility\n",
    "np.random.seed(42)\n",
    "\n",
    "observed_counts = generate_toy_mc(E_min, E_max, n_bins, E_0, sigma, S, B)\n",
    "expected_counts = signal_counts+bkg_counts\n",
    "assert observed_counts[0] == 46\n",
    "assert observed_counts[-1] == 64\n",
    "assert np.sum(observed_counts) == 2087"
   ]
  },
  {
   "cell_type": "markdown",
   "id": "fc478c8d",
   "metadata": {},
   "source": [
    "Now you can plot the \"observed\" data and compare with the theoretical distribution. The uncertainty (error bar) for each bin count $N_i$ is $\\sqrt{N_i}$."
   ]
  },
  {
   "cell_type": "code",
   "execution_count": null,
   "id": "78739dfc",
   "metadata": {},
   "outputs": [],
   "source": [
    "plt.figure(figsize=(7, 5))\n",
    "plt.plot(energies, bkg_counts, alpha=0.7, color='royalblue', label='Background')\n",
    "plt.plot(energies, signal_counts, alpha=0.7, color='darkorange', label='Signal')\n",
    "plt.plot(energies, expected_counts, alpha=0.7, color='red', label='Total')\n",
    "plt.errorbar(energies, observed_counts, yerr=np.sqrt(observed_counts), \n",
    "             fmt='o', linestyle='None',\n",
    "             alpha=0.7, color='black', label='Observed')\n",
    "plt.xlabel('Energy [GeV]', fontsize=14)\n",
    "plt.ylabel('Events / bin', fontsize=14)\n",
    "plt.xticks(fontsize=13)\n",
    "plt.yticks(fontsize=13)\n",
    "plt.legend(loc='upper left', frameon=False, fontsize=14)\n",
    "plt.xlim(100, 300)\n",
    "plt.ylim(0, 120)\n",
    "plt.show()"
   ]
  },
  {
   "cell_type": "markdown",
   "id": "4dcff14f",
   "metadata": {},
   "source": [
    "### Part 3"
   ]
  },
  {
   "cell_type": "markdown",
   "id": "b9521b63",
   "metadata": {},
   "source": [
    "Now let's define the $\\chi$-square function and perform the fit!"
   ]
  },
  {
   "cell_type": "code",
   "execution_count": null,
   "id": "a2de2165",
   "metadata": {},
   "outputs": [],
   "source": [
    "# Define the chi-square function, make use of the functions you defined previously\n",
    "def chi2(S_fit, B_fit):\n",
    "    '''\n",
    "    Input:\n",
    "        S: total number of signal events\n",
    "        B: total number of background events\n",
    "    Output:\n",
    "        Chi square\n",
    "    '''\n",
    "    # Implement your code below\n",
    "    return chi2_value"
   ]
  },
  {
   "cell_type": "code",
   "execution_count": null,
   "id": "1bb336a6",
   "metadata": {},
   "outputs": [],
   "source": [
    "chi2_test = chi2(50, 2000)\n",
    "assert math.isclose(chi2_test, 48.4744, abs_tol=1e-2)"
   ]
  },
  {
   "cell_type": "code",
   "execution_count": null,
   "id": "b9094a8d",
   "metadata": {},
   "outputs": [],
   "source": [
    "# Initial guess of the parameters\n",
    "S_init = 100\n",
    "B_init = np.sum(observed_counts)\n",
    "# Implement your code below (only one line)\n",
    "minuit = ...\n",
    "minuit.limits = [(0, None), (0, None)]\n",
    "minuit.migrad()  # Minimization\n",
    "\n",
    "# Print the fit results\n",
    "best_fit_S = minuit.values[\"S_fit\"]\n",
    "best_fit_B = minuit.values[\"B_fit\"]\n",
    "\n",
    "print(f\"Best-fit S: {best_fit_S:.2f}\")\n",
    "print(f\"Best-fit B: {best_fit_B:.2f}\")\n",
    "\n",
    "# Print the best-fit chi-square value\n",
    "chi2_min = minuit.fval\n",
    "\n",
    "print (f\"Best-fit chi-square: {chi2_min:.2f}\")"
   ]
  },
  {
   "cell_type": "code",
   "execution_count": null,
   "id": "4c531c4a",
   "metadata": {},
   "outputs": [],
   "source": [
    "assert math.isclose(best_fit_S, 15.99, abs_tol=1e-2)\n",
    "assert math.isclose(best_fit_B, 2092.99, abs_tol=1e-2)\n",
    "assert math.isclose(chi2_min, 44.14, abs_tol=1e-2)"
   ]
  },
  {
   "cell_type": "markdown",
   "id": "caff0599",
   "metadata": {},
   "source": [
    "### Part 4"
   ]
  },
  {
   "cell_type": "markdown",
   "id": "db94a09e",
   "metadata": {},
   "source": [
    "As we can see, although we set S=50 and B=2000, after simulating the \"observed\" data we fit the observed with our signal and background models, the best-fit values we get is not very close to the values we set.\n",
    "\n",
    "Now, let's go ahead and find the upperlimit on the signal rate at 90% confidence level.\n",
    "\n",
    "The way we will do this is as follows:\n",
    "1. Fix a $S_{fit}$ (or $S_{scan}$) value\n",
    "2. Perform the fit again (here it will be fitting $B_fit$ only\n",
    "3. Get the best-fit $\\chi^2_{fix\\ S}$, calculate $q = \\chi^2_{fix\\ S} - \\chi^2_{best-fit}$\n",
    "4. Look for the $S_{scan}$ value that makes its corresponding $\\chi^2$ value larger than best-fit $\\chi^2_{best-fit}$ by 2.71 (based on approximation you learned from lecture), i.e. $q=2.71$."
   ]
  },
  {
   "cell_type": "code",
   "execution_count": null,
   "id": "a2a5c5b0",
   "metadata": {},
   "outputs": [],
   "source": [
    "# Array to store q values for different signal strengths\n",
    "S_scan = np.linspace(0, 80, 200)  # Test range of signal strengths\n",
    "q_values = []\n",
    "\n",
    "for s in S_scan:\n",
    "    # Implement your code below (replace \"...\" to your code)\n",
    "    # Perform a minimization for each fixed S_scan\n",
    "    # Hint: try Minuit(lambda B_fit: ... ) for a minuit fit with a fixed S_fit parameter\n",
    "    m_fixed = ...\n",
    "    m_fixed.limits = [(0, None)]\n",
    "    m_fixed.migrad()\n",
    "    chi2_fixed = ...\n",
    "    \n",
    "    # Calculate q for this signal rate\n",
    "    q = ...\n",
    "    q_values.append(q)\n",
    "\n",
    "# Plot q vs. signal rate\n",
    "plt.figure(figsize=(7, 5))\n",
    "plt.plot(S_scan, q_values, color='black', linewidth=2)\n",
    "plt.xticks(fontsize=12)\n",
    "plt.yticks(fontsize=12)\n",
    "plt.xlabel(\"Signal Rate\", fontsize=14)\n",
    "plt.ylabel(\"q\", fontsize=14)\n",
    "plt.grid()\n",
    "plt.show()"
   ]
  },
  {
   "cell_type": "markdown",
   "id": "ef97d435",
   "metadata": {},
   "source": [
    "Now to find the $S_{scan}$ value corresponding to $q=2.7$, in principle one can fit the curve q(S), but to be simple as we have fairly fine scanning values, we can just find the closet one."
   ]
  },
  {
   "cell_type": "code",
   "execution_count": null,
   "id": "e574fc7b",
   "metadata": {},
   "outputs": [],
   "source": [
    "closest_diff = float('inf')\n",
    "closest_rate = float('inf')\n",
    "for i in range(len(S_scan)):\n",
    "    if abs(q_values[i]-2.71) < closest_diff and S_scan[i]>best_fit_S: # Note that the upperlimit has to be greater than S_best-fit\n",
    "        closest_diff = abs(q_values[i]-2.71)\n",
    "        closest_rate = S_scan[i]"
   ]
  },
  {
   "cell_type": "code",
   "execution_count": null,
   "id": "aa606c2f",
   "metadata": {},
   "outputs": [],
   "source": [
    "print (f\"Upper-limit on Signal Rate: {closest_rate:.2f}\")\n",
    "assert math.isclose(closest_rate, 52.66, abs_tol=1e-1)"
   ]
  },
  {
   "cell_type": "code",
   "execution_count": null,
   "id": "3d114b9d",
   "metadata": {},
   "outputs": [],
   "source": [
    "# Plot q vs. signal rate and the critial signal rate\n",
    "plt.figure(figsize=(7, 5))\n",
    "plt.plot(S_scan, q_values, color='black', linewidth=2)\n",
    "plt.hlines(2.71, 0, closest_rate, linestyle='--', color='red', alpha=0.8)\n",
    "plt.vlines(closest_rate, 0, 2.71, linestyle='--', color='red', alpha=0.8)\n",
    "plt.xticks(fontsize=12)\n",
    "plt.yticks(fontsize=12)\n",
    "plt.xlabel(\"Signal Rate\", fontsize=14)\n",
    "plt.ylabel(\"q\", fontsize=14)\n",
    "plt.grid()\n",
    "plt.show()"
   ]
  },
  {
   "cell_type": "code",
   "execution_count": null,
   "id": "bbc86d26",
   "metadata": {},
   "outputs": [],
   "source": []
  },
  {
   "cell_type": "code",
   "execution_count": null,
   "id": "7f36711a",
   "metadata": {},
   "outputs": [],
   "source": []
  }
 ],
 "metadata": {
  "kernelspec": {
   "display_name": "Python 3",
   "language": "python",
   "name": "python3"
  },
  "language_info": {
   "codemirror_mode": {
    "name": "ipython",
    "version": 3
   },
   "file_extension": ".py",
   "mimetype": "text/x-python",
   "name": "python",
   "nbconvert_exporter": "python",
   "pygments_lexer": "ipython3",
   "version": "3.11.8"
  }
 },
 "nbformat": 4,
 "nbformat_minor": 5
}
