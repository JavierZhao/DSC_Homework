{
 "cells": [
  {
   "cell_type": "markdown",
   "id": "28a00c7d",
   "metadata": {},
   "source": [
    "# Homework 05: Confidence Intervals and Sensitivity"
   ]
  },
  {
   "cell_type": "markdown",
   "id": "3bea38b4",
   "metadata": {},
   "source": [
    "## Problem 1"
   ]
  },
  {
   "cell_type": "markdown",
   "id": "d0e2798a",
   "metadata": {},
   "source": [
    "Write a program to calculate an confidence limits at arbitrary confidence levels for a given number of observed counts (remember those are integers).  Calculate upper and lower limits (if possible) at 68% and 95% CL for observed counts between 0 and 10."
   ]
  },
  {
   "cell_type": "markdown",
   "id": "6d4d3d2e",
   "metadata": {},
   "source": [
    "Hint: Poisson distribution and stats.xxx.ppf may help"
   ]
  },
  {
   "cell_type": "code",
   "execution_count": 1,
   "id": "511553a9",
   "metadata": {
    "execution": {
     "iopub.execute_input": "2025-03-07T19:24:26.595238Z",
     "iopub.status.busy": "2025-03-07T19:24:26.594807Z",
     "iopub.status.idle": "2025-03-07T19:24:27.251292Z",
     "shell.execute_reply": "2025-03-07T19:24:27.250711Z",
     "shell.execute_reply.started": "2025-03-07T19:24:26.595219Z"
    }
   },
   "outputs": [],
   "source": [
    "import scipy.stats as stats"
   ]
  },
  {
   "cell_type": "code",
   "execution_count": 2,
   "id": "aea00651",
   "metadata": {
    "execution": {
     "iopub.execute_input": "2025-03-07T19:24:27.252748Z",
     "iopub.status.busy": "2025-03-07T19:24:27.252321Z",
     "iopub.status.idle": "2025-03-07T19:24:27.257173Z",
     "shell.execute_reply": "2025-03-07T19:24:27.256697Z",
     "shell.execute_reply.started": "2025-03-07T19:24:27.252730Z"
    }
   },
   "outputs": [],
   "source": [
    "def confidence_limits(observed_count, confidence_level):\n",
    "    \"\"\"\n",
    "    Calculate the confidence limits for a given observed count and confidence level.\n",
    "    \n",
    "    :param observed_count: Number of observed events (integer).\n",
    "    :param confidence_level: Desired confidence level (e.g., 0.68 for 68% CL, 0.95 for 95% CL).\n",
    "    \n",
    "    :return: Tuple (lower_limit, upper_limit).\n",
    "    \"\"\"\n",
    "    # Implement your code below\n",
    "    lower_prob = (1 - confidence_level) / 2\n",
    "    upper_prob = 1 - lower_prob\n",
    "\n",
    "    if observed_count == 0:\n",
    "        # When no events are observed, we define the lower limit as 0.\n",
    "        lower_limit = 0.0\n",
    "        # For the upper limit we use the Garwood interval which amounts to:\n",
    "        #   0.5 * chi2.ppf(upper_prob, 2*(observed_count+1))\n",
    "        upper_limit = 0.5 * stats.chi2.ppf(upper_prob, 2 * (observed_count + 1))\n",
    "    else:\n",
    "        lower_limit = stats.poisson.ppf(lower_prob, observed_count)\n",
    "        upper_limit = stats.poisson.ppf(upper_prob, observed_count)\n",
    "    \n",
    "    return lower_limit, upper_limit"
   ]
  },
  {
   "cell_type": "code",
   "execution_count": 3,
   "id": "f91342f3",
   "metadata": {
    "execution": {
     "iopub.execute_input": "2025-03-07T19:24:27.257899Z",
     "iopub.status.busy": "2025-03-07T19:24:27.257763Z",
     "iopub.status.idle": "2025-03-07T19:24:27.261932Z",
     "shell.execute_reply": "2025-03-07T19:24:27.261450Z",
     "shell.execute_reply.started": "2025-03-07T19:24:27.257885Z"
    }
   },
   "outputs": [],
   "source": [
    "assert confidence_limits(100, 0.68) == (90.0, 110.0)\n",
    "assert confidence_limits(100, 0.95) == (81.0, 120.0)"
   ]
  },
  {
   "cell_type": "markdown",
   "id": "0dad3990",
   "metadata": {},
   "source": [
    "## Problem 2"
   ]
  },
  {
   "cell_type": "markdown",
   "id": "76827d6e",
   "metadata": {},
   "source": [
    "In this problem we will do a simplified version of searching for rare event physics signals. In this set up, the background is a flat background in energy space, and the signal we are searching for is a monoenergetic gaussian peak (monoenergetic with energy resolution results in a gaussian peak). We don't consider any efficiency loss (assuming we can detect all signal and background events), and what we are trying to do is to define the models, simulate the \"fake\" events, then fit the signal rate, and find the upperlimit on the signal rate."
   ]
  },
  {
   "cell_type": "markdown",
   "id": "12bcf23f",
   "metadata": {},
   "source": [
    "### Part 1"
   ]
  },
  {
   "cell_type": "markdown",
   "id": "37df8d96",
   "metadata": {},
   "source": [
    "Defining the signal and background models. In those kind of fit (assuming we are using $\\chi^2$ fit), binning is important. Suppose you are expecting 1000 flat bakcground events between 100 and 300 GeV, with a 10 GeV binning, how many events are you expecting in each bin?\n",
    "\n",
    "Note: Carefully deal with bin_edges and bin_centers, len(bin_edges) = len(bin_centers)+1 = n_bins+1"
   ]
  },
  {
   "cell_type": "code",
   "execution_count": 4,
   "id": "f457e139",
   "metadata": {
    "execution": {
     "iopub.execute_input": "2025-03-07T19:24:27.263361Z",
     "iopub.status.busy": "2025-03-07T19:24:27.263063Z",
     "iopub.status.idle": "2025-03-07T19:24:27.574000Z",
     "shell.execute_reply": "2025-03-07T19:24:27.573342Z",
     "shell.execute_reply.started": "2025-03-07T19:24:27.263344Z"
    }
   },
   "outputs": [],
   "source": [
    "import numpy as np\n",
    "import math\n",
    "import matplotlib.pyplot as plt\n",
    "from iminuit import Minuit"
   ]
  },
  {
   "cell_type": "code",
   "execution_count": 5,
   "id": "47e6a6c3",
   "metadata": {
    "execution": {
     "iopub.execute_input": "2025-03-07T19:24:27.575033Z",
     "iopub.status.busy": "2025-03-07T19:24:27.574754Z",
     "iopub.status.idle": "2025-03-07T19:24:27.578816Z",
     "shell.execute_reply": "2025-03-07T19:24:27.578335Z",
     "shell.execute_reply.started": "2025-03-07T19:24:27.575015Z"
    }
   },
   "outputs": [],
   "source": [
    "def background(E_min, E_max, n_bins, B):\n",
    "    '''\n",
    "    Input:\n",
    "        E_min, E_max: min and max of the energy range\n",
    "        n_bins: number of bins within the energy range\n",
    "        B: background event rate, unit: number of events\n",
    "    Output:\n",
    "        bin_centers: array contains the central energy of the energy bins\n",
    "        bkg_counts: array contains the expected number of backgrounds in each energy bin\n",
    "    '''\n",
    "    # Implement your code below\n",
    "    # Calculate bin edges and centers\n",
    "    bin_edges = np.linspace(E_min, E_max, n_bins + 1)\n",
    "    energies = (bin_edges[:-1] + bin_edges[1:]) / 2.0\n",
    "    # Distribute background events evenly over the bins\n",
    "    bkg_counts = np.full(n_bins, B / n_bins)\n",
    "    return energies, bkg_counts"
   ]
  },
  {
   "cell_type": "code",
   "execution_count": 6,
   "id": "ce47b162",
   "metadata": {
    "execution": {
     "iopub.execute_input": "2025-03-07T19:24:27.579525Z",
     "iopub.status.busy": "2025-03-07T19:24:27.579390Z",
     "iopub.status.idle": "2025-03-07T19:24:27.581995Z",
     "shell.execute_reply": "2025-03-07T19:24:27.581471Z",
     "shell.execute_reply.started": "2025-03-07T19:24:27.579511Z"
    }
   },
   "outputs": [],
   "source": [
    "E_min = 100\n",
    "E_max = 300\n",
    "n_bins = 40\n",
    "B = 2000"
   ]
  },
  {
   "cell_type": "code",
   "execution_count": 7,
   "id": "fbcbffcf",
   "metadata": {
    "execution": {
     "iopub.execute_input": "2025-03-07T19:24:27.582720Z",
     "iopub.status.busy": "2025-03-07T19:24:27.582588Z",
     "iopub.status.idle": "2025-03-07T19:24:27.585560Z",
     "shell.execute_reply": "2025-03-07T19:24:27.585096Z",
     "shell.execute_reply.started": "2025-03-07T19:24:27.582706Z"
    }
   },
   "outputs": [],
   "source": [
    "energies, bkg_counts = background(E_min, E_max, n_bins, B)\n",
    "assert len(energies) == n_bins\n",
    "assert math.isclose(np.sum(bkg_counts), B, abs_tol=1.0)"
   ]
  },
  {
   "cell_type": "code",
   "execution_count": 8,
   "id": "66c4b786",
   "metadata": {
    "execution": {
     "iopub.execute_input": "2025-03-07T19:24:27.586369Z",
     "iopub.status.busy": "2025-03-07T19:24:27.586231Z",
     "iopub.status.idle": "2025-03-07T19:24:27.589880Z",
     "shell.execute_reply": "2025-03-07T19:24:27.589405Z",
     "shell.execute_reply.started": "2025-03-07T19:24:27.586355Z"
    }
   },
   "outputs": [],
   "source": [
    "from scipy.stats import norm\n",
    "def signal(E_min, E_max, n_bins, E_0, sigma, S):\n",
    "    '''\n",
    "    Input:\n",
    "        E_min, E_max: min and max of the energy range\n",
    "        n_bins: number of bins within the energy range\n",
    "        B: background event rate, unit: number of events\n",
    "        E_0: the energy of the monoenergetic signal\n",
    "        sigma: the width of the signal energy spectrum (assuming gaussian)\n",
    "        S: total number of signal events\n",
    "    Output:\n",
    "        bin_centers: array contains the central energy of the energy bins\n",
    "        signal_counts: array contains the expected number of signals in each energy bin\n",
    "    '''\n",
    "    # Implement your code below\n",
    "    bin_edges = np.linspace(E_min, E_max, n_bins + 1)\n",
    "    energies = (bin_edges[:-1] + bin_edges[1:]) / 2.0\n",
    "    # Compute the probability for a signal event to fall in each bin using the Gaussian CDF.\n",
    "    bin_probs = norm.cdf(bin_edges[1:], loc=E_0, scale=sigma) - norm.cdf(bin_edges[:-1], loc=E_0, scale=sigma)\n",
    "    signal_counts = S * bin_probs\n",
    "    return energies, signal_counts"
   ]
  },
  {
   "cell_type": "code",
   "execution_count": 9,
   "id": "d6d69af2",
   "metadata": {
    "execution": {
     "iopub.execute_input": "2025-03-07T19:24:27.590704Z",
     "iopub.status.busy": "2025-03-07T19:24:27.590433Z",
     "iopub.status.idle": "2025-03-07T19:24:27.592860Z",
     "shell.execute_reply": "2025-03-07T19:24:27.592405Z",
     "shell.execute_reply.started": "2025-03-07T19:24:27.590688Z"
    }
   },
   "outputs": [],
   "source": [
    "E_0 = 250\n",
    "sigma = 10\n",
    "S = 50"
   ]
  },
  {
   "cell_type": "code",
   "execution_count": 10,
   "id": "e429af1d",
   "metadata": {
    "execution": {
     "iopub.execute_input": "2025-03-07T19:24:27.594668Z",
     "iopub.status.busy": "2025-03-07T19:24:27.594390Z",
     "iopub.status.idle": "2025-03-07T19:24:27.597832Z",
     "shell.execute_reply": "2025-03-07T19:24:27.597343Z",
     "shell.execute_reply.started": "2025-03-07T19:24:27.594653Z"
    }
   },
   "outputs": [],
   "source": [
    "energies, signal_counts = signal(E_min, E_max, n_bins, E_0, sigma, S)\n",
    "assert len(energies) == n_bins\n",
    "assert math.isclose(np.sum(signal_counts), S, abs_tol=0.1)"
   ]
  },
  {
   "cell_type": "markdown",
   "id": "98450b5e",
   "metadata": {},
   "source": [
    "Now we can plot the signal and background model and see how they look like"
   ]
  },
  {
   "cell_type": "code",
   "execution_count": 11,
   "id": "59e3ee65",
   "metadata": {
    "execution": {
     "iopub.execute_input": "2025-03-07T19:24:27.598665Z",
     "iopub.status.busy": "2025-03-07T19:24:27.598395Z",
     "iopub.status.idle": "2025-03-07T19:24:27.814668Z",
     "shell.execute_reply": "2025-03-07T19:24:27.814132Z",
     "shell.execute_reply.started": "2025-03-07T19:24:27.598651Z"
    }
   },
   "outputs": [
    {
     "data": {
      "image/png": "[encoded data removed]",
      "text/plain": [
       "<Figure size 700x500 with 1 Axes>"
      ]
     },
     "metadata": {},
     "output_type": "display_data"
    }
   ],
   "source": [
    "plt.figure(figsize=(7, 5))\n",
    "plt.plot(energies, bkg_counts, alpha=0.7, color='royalblue', label='Background')\n",
    "plt.plot(energies, signal_counts, alpha=0.7, color='darkorange', label='Signal')\n",
    "plt.plot(energies, signal_counts+bkg_counts, alpha=0.7, color='red', label='Total')\n",
    "plt.xlabel('Energy [GeV]', fontsize=14)\n",
    "plt.ylabel('Events / bin', fontsize=14)\n",
    "plt.xticks(fontsize=13)\n",
    "plt.yticks(fontsize=13)\n",
    "plt.legend(frameon=False, fontsize=14)\n",
    "plt.xlim(100, 300)\n",
    "plt.ylim(0, 100)\n",
    "plt.show()"
   ]
  },
  {
   "cell_type": "markdown",
   "id": "d9688657",
   "metadata": {},
   "source": [
    "### Part 2"
   ]
  },
  {
   "cell_type": "markdown",
   "id": "e42c034f",
   "metadata": {},
   "source": [
    "Based on the signal and background model we have defined above, we are able to define our simulation for the \"fake\" events. Assume for each energy bin the observed number of events follows Poisson(expected), where expected is the number of expected events in the bin."
   ]
  },
  {
   "cell_type": "code",
   "execution_count": 12,
   "id": "cbb4cb77",
   "metadata": {
    "execution": {
     "iopub.execute_input": "2025-03-07T19:24:27.815601Z",
     "iopub.status.busy": "2025-03-07T19:24:27.815400Z",
     "iopub.status.idle": "2025-03-07T19:24:27.819180Z",
     "shell.execute_reply": "2025-03-07T19:24:27.818687Z",
     "shell.execute_reply.started": "2025-03-07T19:24:27.815582Z"
    }
   },
   "outputs": [],
   "source": [
    "def generate_toy_mc(E_min, E_max, n_bins, E_0, sigma, S, B):\n",
    "    '''\n",
    "    Input:\n",
    "        E_min, E_max: min and max of the energy range\n",
    "        n_bins: number of bins within the energy range\n",
    "        E_0: energy of the monoenergetic signal\n",
    "        sigma: width of the signal energy spectrum (assuming Gaussian)\n",
    "        S: total number of signal eventss\n",
    "        B: total number of background events\n",
    "    Output:\n",
    "        toy_data: simulated events in each bin, signal_observed + background_observed\n",
    "    '''\n",
    "    # Implement your code below\n",
    "    energies, bkg_counts = background(E_min, E_max, n_bins, B)\n",
    "    energies, signal_counts = signal(E_min, E_max, n_bins, E_0, sigma, S)\n",
    "    \n",
    "    # Draw signal counts first, then background counts\n",
    "    signal_observed = np.random.poisson(signal_counts)\n",
    "    bkg_observed = np.random.poisson(bkg_counts)\n",
    "    \n",
    "    \n",
    "    toy_data = signal_observed + bkg_observed\n",
    "    return toy_data"
   ]
  },
  {
   "cell_type": "code",
   "execution_count": 13,
   "id": "0058127c",
   "metadata": {
    "execution": {
     "iopub.execute_input": "2025-03-07T19:24:27.819950Z",
     "iopub.status.busy": "2025-03-07T19:24:27.819767Z",
     "iopub.status.idle": "2025-03-07T19:24:27.823307Z",
     "shell.execute_reply": "2025-03-07T19:24:27.822898Z",
     "shell.execute_reply.started": "2025-03-07T19:24:27.819934Z"
    }
   },
   "outputs": [],
   "source": [
    "# Set random seed for reproducibility\n",
    "np.random.seed(42)\n",
    "\n",
    "observed_counts = generate_toy_mc(E_min, E_max, n_bins, E_0, sigma, S, B)\n",
    "expected_counts = signal_counts+bkg_counts\n",
    "assert observed_counts[0] == 46\n",
    "assert observed_counts[-1] == 64\n",
    "assert np.sum(observed_counts) == 2087"
   ]
  },
  {
   "cell_type": "markdown",
   "id": "fc478c8d",
   "metadata": {},
   "source": [
    "Now you can plot the \"observed\" data and compare with the theoretical distribution. The uncertainty (error bar) for each bin count $N_i$ is $\\sqrt{N_i}$."
   ]
  },
  {
   "cell_type": "code",
   "execution_count": 14,
   "id": "78739dfc",
   "metadata": {
    "execution": {
     "iopub.execute_input": "2025-03-07T19:24:27.824090Z",
     "iopub.status.busy": "2025-03-07T19:24:27.823819Z",
     "iopub.status.idle": "2025-03-07T19:24:27.961456Z",
     "shell.execute_reply": "2025-03-07T19:24:27.960968Z",
     "shell.execute_reply.started": "2025-03-07T19:24:27.824076Z"
    }
   },
   "outputs": [
    {
     "data": {
      "image/png": "[encoded data removed]",
      "text/plain": [
       "<Figure size 700x500 with 1 Axes>"
      ]
     },
     "metadata": {},
     "output_type": "display_data"
    }
   ],
   "source": [
    "plt.figure(figsize=(7, 5))\n",
    "plt.plot(energies, bkg_counts, alpha=0.7, color='royalblue', label='Background')\n",
    "plt.plot(energies, signal_counts, alpha=0.7, color='darkorange', label='Signal')\n",
    "plt.plot(energies, expected_counts, alpha=0.7, color='red', label='Total')\n",
    "plt.errorbar(energies, observed_counts, yerr=np.sqrt(observed_counts), \n",
    "             fmt='o', linestyle='None',\n",
    "             alpha=0.7, color='black', label='Observed')\n",
    "plt.xlabel('Energy [GeV]', fontsize=14)\n",
    "plt.ylabel('Events / bin', fontsize=14)\n",
    "plt.xticks(fontsize=13)\n",
    "plt.yticks(fontsize=13)\n",
    "plt.legend(loc='upper left', frameon=False, fontsize=14)\n",
    "plt.xlim(100, 300)\n",
    "plt.ylim(0, 120)\n",
    "plt.show()"
   ]
  },
  {
   "cell_type": "markdown",
   "id": "4dcff14f",
   "metadata": {},
   "source": [
    "### Part 3"
   ]
  },
  {
   "cell_type": "markdown",
   "id": "b9521b63",
   "metadata": {},
   "source": [
    "Now let's define the $\\chi$-square function and perform the fit!"
   ]
  },
  {
   "cell_type": "code",
   "execution_count": 15,
   "id": "a2de2165",
   "metadata": {
    "execution": {
     "iopub.execute_input": "2025-03-07T19:24:27.962293Z",
     "iopub.status.busy": "2025-03-07T19:24:27.962151Z",
     "iopub.status.idle": "2025-03-07T19:24:27.965585Z",
     "shell.execute_reply": "2025-03-07T19:24:27.965089Z",
     "shell.execute_reply.started": "2025-03-07T19:24:27.962278Z"
    }
   },
   "outputs": [],
   "source": [
    "# Define the chi-square function, make use of the functions you defined previously\n",
    "def chi2(S_fit, B_fit):\n",
    "    '''\n",
    "    Input:\n",
    "        S: total number of signal events\n",
    "        B: total number of background events\n",
    "    Output:\n",
    "        Chi square\n",
    "    '''\n",
    "    # Implement your code below\n",
    "    energies, bkg_fit = background(E_min, E_max, n_bins, B_fit)\n",
    "    energies, signal_fit = signal(E_min, E_max, n_bins, E_0, sigma, S_fit)\n",
    "    expected_fit = bkg_fit + signal_fit\n",
    "    \n",
    "    # Compute the chi-square value:\n",
    "    chi2_value = np.sum((observed_counts - expected_fit)**2 / expected_fit)\n",
    "    \n",
    "    return chi2_value"
   ]
  },
  {
   "cell_type": "code",
   "execution_count": 26,
   "id": "1bb336a6",
   "metadata": {
    "execution": {
     "iopub.execute_input": "2025-03-07T19:26:26.538604Z",
     "iopub.status.busy": "2025-03-07T19:26:26.538340Z",
     "iopub.status.idle": "2025-03-07T19:26:26.551306Z",
     "shell.execute_reply": "2025-03-07T19:26:26.550684Z",
     "shell.execute_reply.started": "2025-03-07T19:26:26.538586Z"
    }
   },
   "outputs": [
    {
     "ename": "AssertionError",
     "evalue": "chi2_test failed: chi2_test = 48.07842429971355",
     "output_type": "error",
     "traceback": [
      "\u001b[0;31m---------------------------------------------------------------------------\u001b[0m",
      "\u001b[0;31mAssertionError\u001b[0m                            Traceback (most recent call last)",
      "Cell \u001b[0;32mIn[26], line 2\u001b[0m\n\u001b[1;32m      1\u001b[0m chi2_test \u001b[38;5;241m=\u001b[39m chi2(\u001b[38;5;241m50\u001b[39m, \u001b[38;5;241m2000\u001b[39m)\n\u001b[0;32m----> 2\u001b[0m \u001b[38;5;28;01massert\u001b[39;00m math\u001b[38;5;241m.\u001b[39misclose(chi2_test, \u001b[38;5;241m48.4744\u001b[39m, abs_tol\u001b[38;5;241m=\u001b[39m\u001b[38;5;241m1e-2\u001b[39m), \u001b[38;5;124mf\u001b[39m\u001b[38;5;124m\"\u001b[39m\u001b[38;5;124mchi2_test failed: chi2_test = \u001b[39m\u001b[38;5;132;01m{\u001b[39;00mchi2_test\u001b[38;5;132;01m}\u001b[39;00m\u001b[38;5;124m\"\u001b[39m\n",
      "\u001b[0;31mAssertionError\u001b[0m: chi2_test failed: chi2_test = 48.07842429971355"
     ]
    }
   ],
   "source": [
    "chi2_test = chi2(50, 2000)\n",
    "assert math.isclose(chi2_test, 48.4744, abs_tol=1e-2), f\"chi2_test failed: chi2_test = {chi2_test}\""
   ]
  },
  {
   "cell_type": "code",
   "execution_count": 19,
   "id": "b9094a8d",
   "metadata": {
    "execution": {
     "iopub.execute_input": "2025-03-07T19:24:40.126614Z",
     "iopub.status.busy": "2025-03-07T19:24:40.126035Z",
     "iopub.status.idle": "2025-03-07T19:24:40.142361Z",
     "shell.execute_reply": "2025-03-07T19:24:40.141630Z",
     "shell.execute_reply.started": "2025-03-07T19:24:40.126591Z"
    }
   },
   "outputs": [
    {
     "name": "stdout",
     "output_type": "stream",
     "text": [
      "Best-fit S: 15.60\n",
      "Best-fit B: 2093.16\n",
      "Best-fit chi-square: 43.72\n"
     ]
    }
   ],
   "source": [
    "# Initial guess of the parameters\n",
    "S_init = 100\n",
    "B_init = np.sum(observed_counts)\n",
    "# Implement your code below (only one line)\n",
    "minuit = Minuit(chi2, S_fit=S_init, B_fit=B_init)\n",
    "minuit.limits = [(0, None), (0, None)]\n",
    "minuit.migrad()  # Minimization\n",
    "\n",
    "# Print the fit results\n",
    "best_fit_S = minuit.values[\"S_fit\"]\n",
    "best_fit_B = minuit.values[\"B_fit\"]\n",
    "\n",
    "print(f\"Best-fit S: {best_fit_S:.2f}\")\n",
    "print(f\"Best-fit B: {best_fit_B:.2f}\")\n",
    "\n",
    "# Print the best-fit chi-square value\n",
    "chi2_min = minuit.fval\n",
    "\n",
    "print (f\"Best-fit chi-square: {chi2_min:.2f}\")"
   ]
  },
  {
   "cell_type": "code",
   "execution_count": 23,
   "id": "4c531c4a",
   "metadata": {
    "execution": {
     "iopub.execute_input": "2025-03-07T19:25:50.886948Z",
     "iopub.status.busy": "2025-03-07T19:25:50.886387Z",
     "iopub.status.idle": "2025-03-07T19:25:50.902517Z",
     "shell.execute_reply": "2025-03-07T19:25:50.901801Z",
     "shell.execute_reply.started": "2025-03-07T19:25:50.886926Z"
    }
   },
   "outputs": [
    {
     "ename": "AssertionError",
     "evalue": "Assertion failed: best_fit_S = 15.597740352899509",
     "output_type": "error",
     "traceback": [
      "\u001b[0;31m---------------------------------------------------------------------------\u001b[0m",
      "\u001b[0;31mAssertionError\u001b[0m                            Traceback (most recent call last)",
      "Cell \u001b[0;32mIn[23], line 1\u001b[0m\n\u001b[0;32m----> 1\u001b[0m \u001b[38;5;28;01massert\u001b[39;00m math\u001b[38;5;241m.\u001b[39misclose(best_fit_S, \u001b[38;5;241m15.99\u001b[39m, abs_tol\u001b[38;5;241m=\u001b[39m\u001b[38;5;241m1e-2\u001b[39m), \u001b[38;5;124mf\u001b[39m\u001b[38;5;124m\"\u001b[39m\u001b[38;5;124mAssertion failed: best_fit_S = \u001b[39m\u001b[38;5;132;01m{\u001b[39;00mbest_fit_S\u001b[38;5;132;01m}\u001b[39;00m\u001b[38;5;124m\"\u001b[39m\n",
      "\u001b[0;31mAssertionError\u001b[0m: Assertion failed: best_fit_S = 15.597740352899509"
     ]
    }
   ],
   "source": [
    "assert math.isclose(best_fit_S, 15.99, abs_tol=1e-2), f\"Assertion failed: best_fit_S = {best_fit_S}\""
   ]
  },
  {
   "cell_type": "code",
   "execution_count": 24,
   "id": "0a81bd16-38f1-4fdc-b533-1a7e664bbd8b",
   "metadata": {
    "execution": {
     "iopub.execute_input": "2025-03-07T19:25:51.541521Z",
     "iopub.status.busy": "2025-03-07T19:25:51.541243Z",
     "iopub.status.idle": "2025-03-07T19:25:51.554400Z",
     "shell.execute_reply": "2025-03-07T19:25:51.553774Z",
     "shell.execute_reply.started": "2025-03-07T19:25:51.541502Z"
    }
   },
   "outputs": [
    {
     "ename": "AssertionError",
     "evalue": "Assertion failed: best_fit_B = 2093.1610536493317",
     "output_type": "error",
     "traceback": [
      "\u001b[0;31m---------------------------------------------------------------------------\u001b[0m",
      "\u001b[0;31mAssertionError\u001b[0m                            Traceback (most recent call last)",
      "Cell \u001b[0;32mIn[24], line 1\u001b[0m\n\u001b[0;32m----> 1\u001b[0m \u001b[38;5;28;01massert\u001b[39;00m math\u001b[38;5;241m.\u001b[39misclose(best_fit_B, \u001b[38;5;241m2092.99\u001b[39m, abs_tol\u001b[38;5;241m=\u001b[39m\u001b[38;5;241m1e-2\u001b[39m), \u001b[38;5;124mf\u001b[39m\u001b[38;5;124m\"\u001b[39m\u001b[38;5;124mAssertion failed: best_fit_B = \u001b[39m\u001b[38;5;132;01m{\u001b[39;00mbest_fit_B\u001b[38;5;132;01m}\u001b[39;00m\u001b[38;5;124m\"\u001b[39m\n",
      "\u001b[0;31mAssertionError\u001b[0m: Assertion failed: best_fit_B = 2093.1610536493317"
     ]
    }
   ],
   "source": [
    "assert math.isclose(best_fit_B, 2092.99, abs_tol=1e-2), f\"Assertion failed: best_fit_B = {best_fit_B}\""
   ]
  },
  {
   "cell_type": "code",
   "execution_count": 25,
   "id": "b57b4023-5c69-4e1c-ab7a-7f98a87d7b77",
   "metadata": {
    "execution": {
     "iopub.execute_input": "2025-03-07T19:25:55.613075Z",
     "iopub.status.busy": "2025-03-07T19:25:55.612609Z",
     "iopub.status.idle": "2025-03-07T19:25:55.625258Z",
     "shell.execute_reply": "2025-03-07T19:25:55.624594Z",
     "shell.execute_reply.started": "2025-03-07T19:25:55.613058Z"
    }
   },
   "outputs": [
    {
     "ename": "AssertionError",
     "evalue": "Assertion failed: chi2_min = 43.71791780976758",
     "output_type": "error",
     "traceback": [
      "\u001b[0;31m---------------------------------------------------------------------------\u001b[0m",
      "\u001b[0;31mAssertionError\u001b[0m                            Traceback (most recent call last)",
      "Cell \u001b[0;32mIn[25], line 1\u001b[0m\n\u001b[0;32m----> 1\u001b[0m \u001b[38;5;28;01massert\u001b[39;00m math\u001b[38;5;241m.\u001b[39misclose(chi2_min, \u001b[38;5;241m44.14\u001b[39m, abs_tol\u001b[38;5;241m=\u001b[39m\u001b[38;5;241m1e-2\u001b[39m), \u001b[38;5;124mf\u001b[39m\u001b[38;5;124m\"\u001b[39m\u001b[38;5;124mAssertion failed: chi2_min = \u001b[39m\u001b[38;5;132;01m{\u001b[39;00mchi2_min\u001b[38;5;132;01m}\u001b[39;00m\u001b[38;5;124m\"\u001b[39m\n",
      "\u001b[0;31mAssertionError\u001b[0m: Assertion failed: chi2_min = 43.71791780976758"
     ]
    }
   ],
   "source": [
    "assert math.isclose(chi2_min, 44.14, abs_tol=1e-2), f\"Assertion failed: chi2_min = {chi2_min}\""
   ]
  },
  {
   "cell_type": "markdown",
   "id": "caff0599",
   "metadata": {},
   "source": [
    "### Part 4"
   ]
  },
  {
   "cell_type": "markdown",
   "id": "db94a09e",
   "metadata": {},
   "source": [
    "As we can see, although we set S=50 and B=2000, after simulating the \"observed\" data we fit the observed with our signal and background models, the best-fit values we get is not very close to the values we set.\n",
    "\n",
    "Now, let's go ahead and find the upperlimit on the signal rate at 90% confidence level.\n",
    "\n",
    "The way we will do this is as follows:\n",
    "1. Fix a $S_{fit}$ (or $S_{scan}$) value\n",
    "2. Perform the fit again (here it will be fitting $B_fit$ only\n",
    "3. Get the best-fit $\\chi^2_{fix\\ S}$, calculate $q = \\chi^2_{fix\\ S} - \\chi^2_{best-fit}$\n",
    "4. Look for the $S_{scan}$ value that makes its corresponding $\\chi^2$ value larger than best-fit $\\chi^2_{best-fit}$ by 2.71 (based on approximation you learned from lecture), i.e. $q=2.71$."
   ]
  },
  {
   "cell_type": "code",
   "execution_count": 27,
   "id": "a2a5c5b0",
   "metadata": {
    "execution": {
     "iopub.execute_input": "2025-03-07T19:26:34.884192Z",
     "iopub.status.busy": "2025-03-07T19:26:34.883946Z",
     "iopub.status.idle": "2025-03-07T19:26:35.565843Z",
     "shell.execute_reply": "2025-03-07T19:26:35.565333Z",
     "shell.execute_reply.started": "2025-03-07T19:26:34.884175Z"
    }
   },
   "outputs": [
    {
     "data": {
      "image/png": "[encoded data removed]",
      "text/plain": [
       "<Figure size 700x500 with 1 Axes>"
      ]
     },
     "metadata": {},
     "output_type": "display_data"
    }
   ],
   "source": [
    "# Array to store q values for different signal strengths\n",
    "S_scan = np.linspace(0, 80, 200)  # Test range of signal strengths\n",
    "q_values = []\n",
    "\n",
    "for s in S_scan:\n",
    "    # Implement your code below (replace \"...\" to your code)\n",
    "    # Perform a minimization for each fixed S_scan\n",
    "    # Hint: try Minuit(lambda B_fit: ... ) for a minuit fit with a fixed S_fit parameter\n",
    "    m_fixed = Minuit(lambda B_fit: chi2(s, B_fit), B_fit=np.sum(observed_counts))\n",
    "    m_fixed.limits = [(0, None)]\n",
    "    m_fixed.migrad()\n",
    "    chi2_fixed = m_fixed.fval\n",
    "    \n",
    "    # Calculate q for this signal rate\n",
    "    q = chi2_fixed - chi2_min\n",
    "    q_values.append(q)\n",
    "\n",
    "# Plot q vs. signal rate\n",
    "plt.figure(figsize=(7, 5))\n",
    "plt.plot(S_scan, q_values, color='black', linewidth=2)\n",
    "plt.xticks(fontsize=12)\n",
    "plt.yticks(fontsize=12)\n",
    "plt.xlabel(\"Signal Rate\", fontsize=14)\n",
    "plt.ylabel(\"q\", fontsize=14)\n",
    "plt.grid()\n",
    "plt.show()"
   ]
  },
  {
   "cell_type": "markdown",
   "id": "ef97d435",
   "metadata": {},
   "source": [
    "Now to find the $S_{scan}$ value corresponding to $q=2.7$, in principle one can fit the curve q(S), but to be simple as we have fairly fine scanning values, we can just find the closet one."
   ]
  },
  {
   "cell_type": "code",
   "execution_count": 28,
   "id": "e574fc7b",
   "metadata": {
    "execution": {
     "iopub.execute_input": "2025-03-07T19:26:38.487417Z",
     "iopub.status.busy": "2025-03-07T19:26:38.486919Z",
     "iopub.status.idle": "2025-03-07T19:26:38.490625Z",
     "shell.execute_reply": "2025-03-07T19:26:38.490117Z",
     "shell.execute_reply.started": "2025-03-07T19:26:38.487400Z"
    }
   },
   "outputs": [],
   "source": [
    "closest_diff = float('inf')\n",
    "closest_rate = float('inf')\n",
    "for i in range(len(S_scan)):\n",
    "    if abs(q_values[i]-2.71) < closest_diff and S_scan[i]>best_fit_S: # Note that the upperlimit has to be greater than S_best-fit\n",
    "        closest_diff = abs(q_values[i]-2.71)\n",
    "        closest_rate = S_scan[i]"
   ]
  },
  {
   "cell_type": "code",
   "execution_count": 29,
   "id": "aa606c2f",
   "metadata": {
    "execution": {
     "iopub.execute_input": "2025-03-07T19:26:54.556654Z",
     "iopub.status.busy": "2025-03-07T19:26:54.556398Z",
     "iopub.status.idle": "2025-03-07T19:26:54.570401Z",
     "shell.execute_reply": "2025-03-07T19:26:54.569527Z",
     "shell.execute_reply.started": "2025-03-07T19:26:54.556636Z"
    }
   },
   "outputs": [
    {
     "name": "stdout",
     "output_type": "stream",
     "text": [
      "Upper-limit on Signal Rate: 52.26\n"
     ]
    },
    {
     "ename": "AssertionError",
     "evalue": "closest_rate: 52.26130653266332",
     "output_type": "error",
     "traceback": [
      "\u001b[0;31m---------------------------------------------------------------------------\u001b[0m",
      "\u001b[0;31mAssertionError\u001b[0m                            Traceback (most recent call last)",
      "Cell \u001b[0;32mIn[29], line 2\u001b[0m\n\u001b[1;32m      1\u001b[0m \u001b[38;5;28mprint\u001b[39m (\u001b[38;5;124mf\u001b[39m\u001b[38;5;124m\"\u001b[39m\u001b[38;5;124mUpper-limit on Signal Rate: \u001b[39m\u001b[38;5;132;01m{\u001b[39;00mclosest_rate\u001b[38;5;132;01m:\u001b[39;00m\u001b[38;5;124m.2f\u001b[39m\u001b[38;5;132;01m}\u001b[39;00m\u001b[38;5;124m\"\u001b[39m)\n\u001b[0;32m----> 2\u001b[0m \u001b[38;5;28;01massert\u001b[39;00m math\u001b[38;5;241m.\u001b[39misclose(closest_rate, \u001b[38;5;241m52.66\u001b[39m, abs_tol\u001b[38;5;241m=\u001b[39m\u001b[38;5;241m1e-1\u001b[39m), \u001b[38;5;124mf\u001b[39m\u001b[38;5;124m\"\u001b[39m\u001b[38;5;124mclosest_rate: \u001b[39m\u001b[38;5;132;01m{\u001b[39;00mclosest_rate\u001b[38;5;132;01m}\u001b[39;00m\u001b[38;5;124m\"\u001b[39m\n",
      "\u001b[0;31mAssertionError\u001b[0m: closest_rate: 52.26130653266332"
     ]
    }
   ],
   "source": [
    "print (f\"Upper-limit on Signal Rate: {closest_rate:.2f}\")\n",
    "assert math.isclose(closest_rate, 52.66, abs_tol=1e-1), f\"closest_rate: {closest_rate}\""
   ]
  },
  {
   "cell_type": "code",
   "execution_count": 30,
   "id": "3d114b9d",
   "metadata": {
    "execution": {
     "iopub.execute_input": "2025-03-07T19:27:02.367769Z",
     "iopub.status.busy": "2025-03-07T19:27:02.367524Z",
     "iopub.status.idle": "2025-03-07T19:27:02.490310Z",
     "shell.execute_reply": "2025-03-07T19:27:02.489806Z",
     "shell.execute_reply.started": "2025-03-07T19:27:02.367750Z"
    }
   },
   "outputs": [
    {
     "data": {
      "image/png": "[encoded data removed]",
      "text/plain": [
       "<Figure size 700x500 with 1 Axes>"
      ]
     },
     "metadata": {},
     "output_type": "display_data"
    }
   ],
   "source": [
    "# Plot q vs. signal rate and the critial signal rate\n",
    "plt.figure(figsize=(7, 5))\n",
    "plt.plot(S_scan, q_values, color='black', linewidth=2)\n",
    "plt.hlines(2.71, 0, closest_rate, linestyle='--', color='red', alpha=0.8)\n",
    "plt.vlines(closest_rate, 0, 2.71, linestyle='--', color='red', alpha=0.8)\n",
    "plt.xticks(fontsize=12)\n",
    "plt.yticks(fontsize=12)\n",
    "plt.xlabel(\"Signal Rate\", fontsize=14)\n",
    "plt.ylabel(\"q\", fontsize=14)\n",
    "plt.grid()\n",
    "plt.show()"
   ]
  },
  {
   "cell_type": "code",
   "execution_count": null,
   "id": "bbc86d26",
   "metadata": {},
   "outputs": [],
   "source": []
  },
  {
   "cell_type": "code",
   "execution_count": null,
   "id": "7f36711a",
   "metadata": {},
   "outputs": [],
   "source": []
  }
 ],
 "metadata": {
  "kernelspec": {
   "display_name": "Python 3 (ipykernel)",
   "language": "python",
   "name": "python3"
  },
  "language_info": {
   "codemirror_mode": {
    "name": "ipython",
    "version": 3
   },
   "file_extension": ".py",
   "mimetype": "text/x-python",
   "name": "python",
   "nbconvert_exporter": "python",
   "pygments_lexer": "ipython3",
   "version": "3.11.5"
  }
 },
 "nbformat": 4,
 "nbformat_minor": 5
}
